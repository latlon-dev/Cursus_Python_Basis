{
 "cells": [
  {
   "cell_type": "markdown",
   "id": "2f6dbd22",
   "metadata": {
    "slideshow": {
     "slide_type": "slide"
    }
   },
   "source": [
    "<center>\n",
    "    <h1>Python Basis</h1>\n",
    "    <img  src=\"python-sq.png\"/>\n",
    "    <h4>Cursus dag 2</h4>\n",
    "    <br>\n",
    "    <img width=180px src=\"https://www.nieuwlandgeo.nl/wp-content/themes/nieuwland/img/nieuwland-geo-informatie.png\"/>\n",
    "</center>\n",
    "\n"
   ]
  },
  {
   "cell_type": "markdown",
   "id": "071101cc",
   "metadata": {
    "slideshow": {
     "slide_type": "slide"
    }
   },
   "source": [
    "# Overzicht dag 2\n",
    "   * [Functies schrijven](#functies-schrijven)\n",
    "   * [Python IDEs gebruiken](#python-ides-gebruiken)\n",
    "   * [Modules](#python-modules) \n",
    "   * [Debugging](#debugging)\n",
    "   * [Externe _modules_ en _packages_ gebruiken](#externe-modules--packages-gebruiken)\n",
    "   * [Dictionaries](#dictionaries)\n",
    "   * [Hoe verder](#hoe-verder)\n",
    "   * [Python en GIS](#python-en-gis)\n"
   ]
  },
  {
   "cell_type": "markdown",
   "id": "4a2a71fe",
   "metadata": {
    "slideshow": {
     "slide_type": "slide"
    }
   },
   "source": [
    "# Functies schrijven\n",
    "* __DRY__ principe: Don't repeat yourself\n",
    "* Functies maken delen van een scrip herbruikbaar "
   ]
  },
  {
   "cell_type": "code",
   "execution_count": 124,
   "id": "700172f4",
   "metadata": {},
   "outputs": [
    {
     "name": "stdout",
     "output_type": "stream",
     "text": [
      "Hello Joeri\n",
      "Hello Kay\n",
      "Hello Pascal\n"
     ]
    }
   ],
   "source": [
    "name = \"Joeri\"\n",
    "print(\"Hello \"+ name)\n",
    "name = \"Kay\"\n",
    "print(\"Hello \"+ name)\n",
    "name = \"Pascal\"\n",
    "print(\"Hello \"+ name)"
   ]
  },
  {
   "cell_type": "markdown",
   "id": "c876f0f5",
   "metadata": {
    "slideshow": {
     "slide_type": "slide"
    }
   },
   "source": [
    "## Functies schrijven (2)\n"
   ]
  },
  {
   "cell_type": "code",
   "execution_count": 2,
   "id": "38d31fd0",
   "metadata": {
    "slideshow": {
     "slide_type": "-"
    }
   },
   "outputs": [],
   "source": [
    "def greet(name):\n",
    "    \"\"\"Print a name specific greeting.\"\"\"\n",
    "    print(\"Hello \" + name)"
   ]
  },
  {
   "cell_type": "code",
   "execution_count": 126,
   "id": "e9bf7528",
   "metadata": {
    "slideshow": {
     "slide_type": "fragment"
    }
   },
   "outputs": [
    {
     "name": "stdout",
     "output_type": "stream",
     "text": [
      "Hello Joeri\n"
     ]
    }
   ],
   "source": [
    "name=\"Joeri\"\n",
    "greet(name)"
   ]
  },
  {
   "cell_type": "code",
   "execution_count": 4,
   "id": "0f136630",
   "metadata": {
    "slideshow": {
     "slide_type": "fragment"
    }
   },
   "outputs": [
    {
     "name": "stdout",
     "output_type": "stream",
     "text": [
      "Hello ghghghghhghg\n"
     ]
    }
   ],
   "source": [
    "greet(\"ghghghghhghg\")"
   ]
  },
  {
   "cell_type": "markdown",
   "id": "4071a6be",
   "metadata": {
    "slideshow": {
     "slide_type": "slide"
    }
   },
   "source": [
    "## Functies schrijven (3): return\n",
    "* Sommige functies (zoals `print`) geven geen waarde terug. \n",
    "* Er gebeurt wel iets. Dit noemen we een _side effect_"
   ]
  },
  {
   "cell_type": "code",
   "execution_count": 128,
   "id": "d5e962cd",
   "metadata": {
    "slideshow": {
     "slide_type": "-"
    }
   },
   "outputs": [
    {
     "name": "stdout",
     "output_type": "stream",
     "text": [
      "Hello Alex\n"
     ]
    }
   ],
   "source": [
    "a = greet(\"Alex\")\n"
   ]
  },
  {
   "cell_type": "code",
   "execution_count": 129,
   "id": "9f9589fe",
   "metadata": {},
   "outputs": [
    {
     "name": "stdout",
     "output_type": "stream",
     "text": [
      "None\n"
     ]
    }
   ],
   "source": [
    "print(a)"
   ]
  },
  {
   "cell_type": "markdown",
   "id": "c7b841df",
   "metadata": {
    "slideshow": {
     "slide_type": "fragment"
    }
   },
   "source": [
    "De meesten functies geven wel een waarde terug. Bijvoorbeeld `len()`:"
   ]
  },
  {
   "cell_type": "code",
   "execution_count": 130,
   "id": "157ddeb5",
   "metadata": {},
   "outputs": [],
   "source": [
    "b = len(\"Alex\")"
   ]
  },
  {
   "cell_type": "code",
   "execution_count": 131,
   "id": "5e5c30b9",
   "metadata": {},
   "outputs": [
    {
     "name": "stdout",
     "output_type": "stream",
     "text": [
      "4\n"
     ]
    }
   ],
   "source": [
    "print(b)"
   ]
  },
  {
   "cell_type": "markdown",
   "id": "00818139",
   "metadata": {
    "slideshow": {
     "slide_type": "slide"
    }
   },
   "source": [
    "### Functies (3): return"
   ]
  },
  {
   "cell_type": "code",
   "execution_count": 8,
   "id": "85869005",
   "metadata": {
    "slideshow": {
     "slide_type": "-"
    }
   },
   "outputs": [],
   "source": [
    "def get_greeting(name):\n",
    "    \"\"\"Constructs a name specific greeting\"\"\"\n",
    "    return \"Hello \" + name"
   ]
  },
  {
   "cell_type": "code",
   "execution_count": 9,
   "id": "6ef9b83e",
   "metadata": {
    "slideshow": {
     "slide_type": "-"
    }
   },
   "outputs": [],
   "source": [
    "my_greeting = get_greeting(\"Ridder van de Kokosnoot\") # geen output!"
   ]
  },
  {
   "cell_type": "code",
   "execution_count": 10,
   "id": "7b654e01",
   "metadata": {
    "slideshow": {
     "slide_type": "-"
    }
   },
   "outputs": [
    {
     "name": "stdout",
     "output_type": "stream",
     "text": [
      "Hello Ridder van de Kokosnoot\n"
     ]
    }
   ],
   "source": [
    "print(my_greeting)"
   ]
  },
  {
   "cell_type": "markdown",
   "id": "65e5ac10",
   "metadata": {
    "slideshow": {
     "slide_type": "slide"
    }
   },
   "source": [
    "## Functies: oefeningen\n",
    "Futurecoder [defining functions](https://futurecoder.io/course/#DefiningFunctions)\n",
    "\n",
    "https://github.com/latlon-dev"
   ]
  },
  {
   "cell_type": "markdown",
   "id": "0f732e5c",
   "metadata": {
    "slideshow": {
     "slide_type": "slide"
    }
   },
   "source": [
    "# Python IDEs gebruiken"
   ]
  },
  {
   "cell_type": "markdown",
   "id": "c9500930",
   "metadata": {
    "slideshow": {
     "slide_type": "fragment"
    }
   },
   "source": [
    "Voordelen van een IDE:\n",
    "- Project organiseren\n",
    "- Debugging:\n",
    "    - Breakpoints & stappen\n",
    "    - Variables,\n",
    "    - Stack \n",
    "    - ...\n",
    "- Gemak en efficiencie:\n",
    "    - autocompletion, formatting, linting"
   ]
  },
  {
   "cell_type": "markdown",
   "id": "b714874e",
   "metadata": {
    "slideshow": {
     "slide_type": "slide"
    }
   },
   "source": [
    "## Python IDEs (2)"
   ]
  },
  {
   "cell_type": "markdown",
   "id": "df553db6",
   "metadata": {
    "slideshow": {
     "slide_type": "fragment"
    }
   },
   "source": [
    "* IDEs (software-ontwikkelomgeving programmas):\n",
    "    * __`Python` specific__\n",
    "        * PyScripter \n",
    "        * PyCharm\n",
    "        * WingIDE\n",
    "        * [Thonny](https://thonny.org/) (voor beginners)\n",
    "        * Online: [futurecoder.io](https://futurecoder.io/course/#ide)\n",
    "    * __Universele IDEs__:\n",
    "        * [VSCode](https://code.visualstudio.com/docs/python/python-tutorial)\n",
    "        * Online: [replit.com](https://replit.com/join/mgjvvgnpnw-latlondev) \n",
    "    * __Jupyter Notebooks__\n",
    "        * Vermengen van text en code, zoals deze presentatie.\n",
    "        * Online: [kaggle.com](https://www.kaggle.com/code), [Google colab](https://colab.research.google.com/), [mybinder.org](mybinder.org) (voor notebooks op github)"
   ]
  },
  {
   "cell_type": "markdown",
   "id": "01312ffc",
   "metadata": {
    "slideshow": {
     "slide_type": "slide"
    }
   },
   "source": [
    "# Python modules\n",
    "* Je slaat de code dan op als `.py`-bestand. Deze bestanden worden ook Pyhton **modules** genoemd. \n",
    "* Elk _module_ kan gebruikt worden als hoofdprogramma, maar kan ook worden geïmporteerd in een ander programma om daar te worden ingezet.\n",
    "* Python vind modules dezelfde map opgeslagen zijn als het hoofdprogramma."
   ]
  },
  {
   "cell_type": "markdown",
   "id": "1bec36a7",
   "metadata": {
    "slideshow": {
     "slide_type": "fragment"
    }
   },
   "source": [
    "Voorbeld met twee modules `greetings.py` en `main.py`:"
   ]
  },
  {
   "cell_type": "code",
   "execution_count": 11,
   "id": "36a8344b",
   "metadata": {
    "cell_style": "split",
    "slideshow": {
     "slide_type": "fragment"
    }
   },
   "outputs": [],
   "source": [
    "## greetings.py\n",
    "\n",
    "def hello(name):\n",
    "    return \"Hello \" + name + \"!\"\n",
    "\n",
    "def goodbye(name):\n",
    "    return \"Goodbye \" + name + \".\""
   ]
  },
  {
   "cell_type": "code",
   "execution_count": 12,
   "id": "88ed6add",
   "metadata": {
    "cell_style": "split",
    "slideshow": {
     "slide_type": "fragment"
    }
   },
   "outputs": [
    {
     "name": "stdout",
     "output_type": "stream",
     "text": [
      "Hello Matthijs!\n",
      "['__builtins__', '__cached__', '__doc__', '__file__', '__loader__', '__name__', '__package__', '__spec__', 'goodbye', 'hello']\n"
     ]
    }
   ],
   "source": [
    "## main.py\n",
    "\n",
    "import greetings\n",
    "\n",
    "print(greetings.hello(\"Matthijs\"))\n",
    "\n",
    "print(dir(greetings))"
   ]
  },
  {
   "cell_type": "markdown",
   "id": "42376035",
   "metadata": {
    "slideshow": {
     "slide_type": "slide"
    }
   },
   "source": [
    "## Modules importeren (2)"
   ]
  },
  {
   "cell_type": "code",
   "execution_count": 13,
   "id": "cf513209",
   "metadata": {
    "scrolled": true,
    "slideshow": {
     "slide_type": "-"
    }
   },
   "outputs": [
    {
     "name": "stdout",
     "output_type": "stream",
     "text": [
      "Goodbye Suzanne.\n"
     ]
    }
   ],
   "source": [
    "from greetings import goodbye\n",
    "\n",
    "print(goodbye(\"Suzanne\"))"
   ]
  },
  {
   "cell_type": "code",
   "execution_count": 4,
   "id": "770538ac",
   "metadata": {
    "slideshow": {
     "slide_type": "fragment"
    }
   },
   "outputs": [
    {
     "data": {
      "text/plain": [
       "9"
      ]
     },
     "execution_count": 4,
     "metadata": {},
     "output_type": "execute_result"
    }
   ],
   "source": [
    "from greetings import *\n",
    "hello(\"Peter\")\n",
    "x = 9\n",
    "x"
   ]
  },
  {
   "cell_type": "code",
   "execution_count": 8,
   "id": "c419ffcc",
   "metadata": {
    "slideshow": {
     "slide_type": "fragment"
    }
   },
   "outputs": [
    {
     "data": {
      "text/plain": [
       "'Hello Erik!'"
      ]
     },
     "execution_count": 8,
     "metadata": {},
     "output_type": "execute_result"
    }
   ],
   "source": [
    "import greetings as g\n",
    "g.hello(\"Erik\")"
   ]
  },
  {
   "cell_type": "markdown",
   "id": "47573329",
   "metadata": {
    "slideshow": {
     "slide_type": "slide"
    }
   },
   "source": [
    "# Debugging\n",
    "* __Breakpoints__ en stap voor stap uitvoeren\n",
    "* Variable lijst\n",
    "* Console"
   ]
  },
  {
   "cell_type": "markdown",
   "id": "da4de4f9",
   "metadata": {
    "slideshow": {
     "slide_type": "fragment"
    }
   },
   "source": [
    "## Oefening\n",
    "\n",
    "1. Zet een _breakpoint_ in een loop of functie en run __debug__. Let goed op de variabelen lijst!\n",
    "2. Debugging van modules:\n",
    "    * Sla een _greetings.py_ module en een _main.py_ module op.\n",
    "    * Importeer en gebruik het greetings in het main.py script. \n",
    "    * Zet een _main.py_ module en __debug__. \n",
    "    "
   ]
  },
  {
   "cell_type": "markdown",
   "id": "ad8c83c0",
   "metadata": {
    "slideshow": {
     "slide_type": "slide"
    }
   },
   "source": [
    "## IDEs (4) Debugging oefening: Variablen\n",
    "* Variabelen die binnen een functie definieert worden, zijn buiten de functie niet oproepbaar"
   ]
  },
  {
   "cell_type": "code",
   "execution_count": 11,
   "id": "251d1835",
   "metadata": {},
   "outputs": [
    {
     "name": "stdout",
     "output_type": "stream",
     "text": [
      "Hoi Anna\n"
     ]
    }
   ],
   "source": [
    "def hoi(name):\n",
    "    \"\"\"Constructs a name specific greeting\"\"\"\n",
    "    greeting = f\"Hoi {name}\"\n",
    "    return greeting\n",
    "\n",
    "text = \"Anna\"\n",
    "my_greeting = hoi(text)\n",
    "print(my_greeting)"
   ]
  },
  {
   "cell_type": "code",
   "execution_count": 17,
   "id": "7bab355d",
   "metadata": {
    "scrolled": true
   },
   "outputs": [
    {
     "ename": "NameError",
     "evalue": "name 'greeting' is not defined",
     "output_type": "error",
     "traceback": [
      "\u001b[0;31m---------------------------------------------------------------------------\u001b[0m",
      "\u001b[0;31mNameError\u001b[0m                                 Traceback (most recent call last)",
      "Cell \u001b[0;32mIn [17], line 1\u001b[0m\n\u001b[0;32m----> 1\u001b[0m \u001b[38;5;28mprint\u001b[39m(\u001b[43mgreeting\u001b[49m)\n",
      "\u001b[0;31mNameError\u001b[0m: name 'greeting' is not defined"
     ]
    }
   ],
   "source": [
    "print(greeting)"
   ]
  },
  {
   "cell_type": "markdown",
   "id": "0642562c",
   "metadata": {
    "slideshow": {
     "slide_type": "slide"
    },
    "tags": []
   },
   "source": [
    "# Externe modules & packages gebruiken\n",
    "Je hoeft niet alles zelf te schrijven, er zijn\n",
    "* de [built in  functions](https://docs.python.org/3/library/functions.html) zoals `round()`\n",
    "* [Python Standart Library](https://docs.python.org/3/library/): meer dan 200 \"standard\" _modules_ komen met de Python installatie:  bij voorbeeld:\n",
    "    * `math`\n",
    "    * `datetime`\n",
    "* meer dan __400000__ \"third-party\" packages: [The Python Package Index (PyPI)](https://pypi.org/)\n",
    "\n",
    "![batteries included](batteries_included.png)"
   ]
  },
  {
   "cell_type": "markdown",
   "id": "d5f79ae9",
   "metadata": {
    "slideshow": {
     "slide_type": "slide"
    }
   },
   "source": [
    "## Modules gebruiken (2): nieuwe data typen"
   ]
  },
  {
   "cell_type": "code",
   "execution_count": 12,
   "id": "83cc9ac5",
   "metadata": {},
   "outputs": [],
   "source": [
    "import datetime"
   ]
  },
  {
   "cell_type": "code",
   "execution_count": 13,
   "id": "c061b859",
   "metadata": {
    "slideshow": {
     "slide_type": "fragment"
    }
   },
   "outputs": [
    {
     "name": "stdout",
     "output_type": "stream",
     "text": [
      "['MAXYEAR', 'MINYEAR', '__all__', '__builtins__', '__cached__', '__doc__', '__file__', '__loader__', '__name__', '__package__', '__spec__', 'date', 'datetime', 'datetime_CAPI', 'sys', 'time', 'timedelta', 'timezone', 'tzinfo']\n"
     ]
    }
   ],
   "source": [
    "print(dir(datetime))"
   ]
  },
  {
   "cell_type": "code",
   "execution_count": 14,
   "id": "bcd87184",
   "metadata": {
    "slideshow": {
     "slide_type": "fragment"
    }
   },
   "outputs": [
    {
     "data": {
      "text/plain": [
       "type"
      ]
     },
     "execution_count": 14,
     "metadata": {},
     "output_type": "execute_result"
    }
   ],
   "source": [
    "type(datetime.datetime)"
   ]
  },
  {
   "cell_type": "code",
   "execution_count": 29,
   "id": "941123a2",
   "metadata": {
    "slideshow": {
     "slide_type": "fragment"
    }
   },
   "outputs": [],
   "source": [
    "my_time = datetime.datetime(year=2022, month=10, day=11, hour=22, minute=15, second=13)\n",
    "#print(help(datetime.datetime))"
   ]
  },
  {
   "cell_type": "code",
   "execution_count": 31,
   "id": "3329f7f7",
   "metadata": {},
   "outputs": [
    {
     "name": "stdout",
     "output_type": "stream",
     "text": [
      "2022-10-11 22:15:13\n",
      "1\n"
     ]
    }
   ],
   "source": [
    "print(my_time)\n",
    "print(my_time.weekday())"
   ]
  },
  {
   "cell_type": "markdown",
   "id": "0a6b77f5",
   "metadata": {
    "cell_style": "center",
    "slideshow": {
     "slide_type": "slide"
    }
   },
   "source": [
    "## Modules gebruiken - oefeningen\n"
   ]
  },
  {
   "cell_type": "markdown",
   "id": "8e9d9aee",
   "metadata": {
    "cell_style": "center",
    "slideshow": {
     "slide_type": "-"
    }
   },
   "source": [
    "* __1 Dobbelsteen__:\n",
    "    * Schrijf een script dat een _toevallig_ getal tussen 1 en 6 print. __Gebruik de [random package](https://docs.python.org/3/library/random.html)__!\n",
    "    * _Bonus: gebruik dobbelsteen \"emojis\" om het resultaat te printen:_ `['⚀', '⚁', '⚂', '⚃', '⚄', '⚅']`"
   ]
  },
  {
   "cell_type": "markdown",
   "id": "31c5506c",
   "metadata": {
    "slideshow": {
     "slide_type": "fragment"
    }
   },
   "source": [
    "* __2 Schrijf een module dat automatisch de datum en de tijd print.__ \n",
    "    * Gebruik de __datetime__ package.\n",
    "    * _Bonus: Kan je het mooi printen?_ `Today is 2015-09-17 and it is 09:34:35.`"
   ]
  },
  {
   "cell_type": "markdown",
   "id": "3487a83b",
   "metadata": {
    "slideshow": {
     "slide_type": "fragment"
    }
   },
   "source": [
    "* __3 _Bonus_: Leeftijd in dagen__\n",
    "    * Schrijf een functie die als input een gebortedag heeft en je huidige leeftijd in dagen berekend, gebruik de __datetime__ package. \n",
    "    * Kan je het mooi printen? `Vandaag ben ik XXX dagen oud.`"
   ]
  },
  {
   "cell_type": "markdown",
   "id": "6b44748f-482d-4870-87d8-277901394a6d",
   "metadata": {
    "slideshow": {
     "slide_type": "slide"
    },
    "tags": []
   },
   "source": [
    "# Dictionaries\n",
    "* Te vergelijken met een woordenboek: een woordenboek is een verzameling van items, die allen een _sleutel_ (een woord) en een _waarde_\n",
    "(de betekenis van dat woord) hebben.\n",
    "* Een `dictionary` bestaat uit zogenoemde __key-value paren__, die omsloten worden door accolades. \n",
    "    * De __key__ is een unieke sleutel (in plaats van een index), die aangeeft waar we de gegevens kunnen vinden.\n",
    "    * De __value__ bevat die gegevens. "
   ]
  },
  {
   "cell_type": "code",
   "execution_count": 55,
   "id": "6eb2a2c4-a1ce-420c-949a-2b31926ac835",
   "metadata": {},
   "outputs": [
    {
     "name": "stdout",
     "output_type": "stream",
     "text": [
      "{'dog': 'hond', 'tree': 'boom', 'sun': 'zon'}\n"
     ]
    }
   ],
   "source": [
    "english_dutch = {'dog': 'hond', 'tree': 'boom','sun': 'zon'}\n",
    "print(english_dutch)\n"
   ]
  },
  {
   "cell_type": "code",
   "execution_count": 34,
   "id": "dbb85716-20cc-450d-bb87-cc221b4aba02",
   "metadata": {
    "slideshow": {
     "slide_type": "fragment"
    }
   },
   "outputs": [
    {
     "data": {
      "text/plain": [
       "dict_keys(['dog', 'tree', 'sun'])"
      ]
     },
     "execution_count": 34,
     "metadata": {},
     "output_type": "execute_result"
    }
   ],
   "source": [
    "english_dutch.keys()"
   ]
  },
  {
   "cell_type": "code",
   "execution_count": 36,
   "id": "cf477166-67a7-4487-8bb8-c402c62d74ca",
   "metadata": {
    "slideshow": {
     "slide_type": "fragment"
    }
   },
   "outputs": [
    {
     "data": {
      "text/plain": [
       "dict_values(['hond', 'boom', 'zon'])"
      ]
     },
     "execution_count": 36,
     "metadata": {},
     "output_type": "execute_result"
    }
   ],
   "source": [
    "english_dutch.values()"
   ]
  },
  {
   "cell_type": "markdown",
   "id": "e08e8e25-337f-45e2-b172-d25c456a14c2",
   "metadata": {
    "slideshow": {
     "slide_type": "slide"
    },
    "tags": []
   },
   "source": [
    "## Dictionaries (2)\n",
    "* values kunnen met de key worden opgeroepen en bewerkt"
   ]
  },
  {
   "cell_type": "code",
   "execution_count": 52,
   "id": "e5a70c6c-eeaa-40ef-ac64-8242463d1dd3",
   "metadata": {
    "slideshow": {
     "slide_type": "fragment"
    }
   },
   "outputs": [
    {
     "name": "stdout",
     "output_type": "stream",
     "text": [
      "{}\n"
     ]
    }
   ],
   "source": [
    "#english_dutch['sun']\n",
    "english_dutch.clear()\n",
    "print(english_dutch)"
   ]
  },
  {
   "cell_type": "code",
   "execution_count": null,
   "id": "22666f87",
   "metadata": {},
   "outputs": [],
   "source": []
  },
  {
   "cell_type": "code",
   "execution_count": null,
   "id": "fdfaf24c",
   "metadata": {},
   "outputs": [],
   "source": []
  },
  {
   "cell_type": "code",
   "execution_count": 53,
   "id": "6c88f4d8-7fb2-4846-81be-2899cb71c349",
   "metadata": {},
   "outputs": [
    {
     "name": "stdout",
     "output_type": "stream",
     "text": [
      "{'table': 'tabel'}\n"
     ]
    }
   ],
   "source": [
    "english_dutch['table'] = 'tabel'\n",
    "print(english_dutch)"
   ]
  },
  {
   "cell_type": "markdown",
   "id": "277b8407-12ed-4c29-b6bd-daf433a91885",
   "metadata": {
    "slideshow": {
     "slide_type": "slide"
    },
    "tags": []
   },
   "source": [
    "## Dictionaries (3):loops\n"
   ]
  },
  {
   "cell_type": "code",
   "execution_count": 57,
   "id": "f9808575",
   "metadata": {},
   "outputs": [
    {
     "name": "stdout",
     "output_type": "stream",
     "text": [
      "hond\n",
      "boom\n",
      "zon\n"
     ]
    }
   ],
   "source": [
    "for word in english_dutch:\n",
    "    print(english_dutch[word])"
   ]
  },
  {
   "cell_type": "code",
   "execution_count": 59,
   "id": "532ac2d1-8eb8-4c0b-ade8-aa42d6c26dca",
   "metadata": {
    "slideshow": {
     "slide_type": "fragment"
    }
   },
   "outputs": [
    {
     "name": "stdout",
     "output_type": "stream",
     "text": [
      "dog\n",
      "hond\n",
      "tree\n",
      "boom\n",
      "sun\n",
      "zon\n"
     ]
    }
   ],
   "source": [
    "for en, nl in english_dutch.items():\n",
    "    print(en)\n",
    "    print(nl)\n",
    "    #print(en +\" is \" + nl + \" in Dutch\")"
   ]
  },
  {
   "cell_type": "markdown",
   "id": "6b70ce39",
   "metadata": {
    "slideshow": {
     "slide_type": "slide"
    }
   },
   "source": [
    "## Dictionaries (4): nesting en mixing\n",
    "* _Dictionaries_ kunnen net als _lists_ verschillende data typen bevatten\n",
    "* Je kan ze combineren en in elkaar stoppen. Dit lijkt best op JSON of GeoJSON\n"
   ]
  },
  {
   "cell_type": "code",
   "execution_count": 42,
   "id": "6d31a8ac",
   "metadata": {
    "cell_style": "split",
    "slideshow": {
     "slide_type": "fragment"
    }
   },
   "outputs": [],
   "source": [
    "capitals = {\n",
    "    \"type\": \"FeatureCollection\",\n",
    "    \"features\": [{\n",
    "        \"properties\": {\n",
    "            \"country\": \"Bangladesh\",\n",
    "            \"city\": \"Dhaka\",\n",
    "        },\n",
    "        \"geometry\": {\n",
    "            \"coordinates\": [90.24, 23.43],\n",
    "            \"type\": \"Point\"\n",
    "        },\n",
    "        \"id\": \"BD\"\n",
    "    }, {\n",
    "        \"properties\": {\n",
    "            \"country\": \"Belgium\",\n",
    "            \"city\": \"Brussels\",\n",
    "        },\n",
    "        \"geometry\": {\n",
    "            \"coordinates\": [4.2, 50.5],\n",
    "            \"type\": \"Point\"\n",
    "        },\n",
    "        \"id\": \"BE\"\n",
    "    }]}"
   ]
  },
  {
   "cell_type": "code",
   "execution_count": 43,
   "id": "a4b791b3",
   "metadata": {
    "cell_style": "split",
    "slideshow": {
     "slide_type": "fragment"
    }
   },
   "outputs": [
    {
     "data": {
      "text/plain": [
       "{'properties': {'country': 'Belgium', 'city': 'Brussels'},\n",
       " 'geometry': {'coordinates': [4.2, 50.5], 'type': 'Point'},\n",
       " 'id': 'BE'}"
      ]
     },
     "execution_count": 43,
     "metadata": {},
     "output_type": "execute_result"
    }
   ],
   "source": [
    "capitals[\"features\"][1]"
   ]
  },
  {
   "cell_type": "code",
   "execution_count": 44,
   "id": "42b4358b",
   "metadata": {
    "cell_style": "split",
    "slideshow": {
     "slide_type": "fragment"
    }
   },
   "outputs": [
    {
     "data": {
      "text/plain": [
       "dict"
      ]
     },
     "execution_count": 44,
     "metadata": {},
     "output_type": "execute_result"
    }
   ],
   "source": [
    "type(capitals[\"features\"][1])"
   ]
  },
  {
   "cell_type": "code",
   "execution_count": 45,
   "id": "7131ff4d",
   "metadata": {
    "cell_style": "split",
    "slideshow": {
     "slide_type": "fragment"
    }
   },
   "outputs": [
    {
     "data": {
      "text/plain": [
       "[4.2, 50.5]"
      ]
     },
     "execution_count": 45,
     "metadata": {},
     "output_type": "execute_result"
    }
   ],
   "source": [
    "capitals[\"features\"][1][\"geometry\"][\"coordinates\"]"
   ]
  },
  {
   "cell_type": "code",
   "execution_count": 46,
   "id": "4d3d38db",
   "metadata": {
    "cell_style": "split",
    "slideshow": {
     "slide_type": "fragment"
    }
   },
   "outputs": [
    {
     "data": {
      "text/plain": [
       "list"
      ]
     },
     "execution_count": 46,
     "metadata": {},
     "output_type": "execute_result"
    }
   ],
   "source": [
    "type(capitals[\"features\"][1][\"geometry\"]\n",
    "     [\"coordinates\"])"
   ]
  },
  {
   "cell_type": "markdown",
   "id": "64ba2bd4",
   "metadata": {
    "cell_style": "center",
    "slideshow": {
     "slide_type": "fragment"
    }
   },
   "source": [
    "Is dit een handige manier om ruimtelijke data op te slaan? Waarom / waarom niet?"
   ]
  },
  {
   "cell_type": "markdown",
   "id": "ef695b46",
   "metadata": {
    "slideshow": {
     "slide_type": "slide"
    }
   },
   "source": [
    "## Dictionaries (5): oefeningen 1\n"
   ]
  },
  {
   "cell_type": "markdown",
   "id": "5331fc34",
   "metadata": {
    "cell_style": "split"
   },
   "source": [
    "Op [futurecoder](https://futurecoder.io/course/#IntroducingElif) was een oefening om letters van een DNA string te vervangen. \n",
    "\n",
    "Gebruik een _dictionary_ om de functie `substitute` simpler en flexibeler te maken.\n",
    "\n",
    "Voeg een argument toe aan de substitute functie, een  _dictionary_ genoemd `d`.\n",
    "\n",
    "De keys van `d` zijn letters die in de `string` \n",
    "door hun `value` moeten worden vervangen. Bij voorbeeld: `{'A': 'T'}` betekend dat A door T vervangen wordt."
   ]
  },
  {
   "cell_type": "code",
   "execution_count": 47,
   "id": "663bc5fd",
   "metadata": {
    "cell_style": "split"
   },
   "outputs": [],
   "source": [
    "## de oude substitute functie:\n",
    "def old_substitute(string):\n",
    "    result = ''\n",
    "    for char in string:\n",
    "        if char == 'A':\n",
    "            char = 'T'\n",
    "        elif char == 'T':\n",
    "            char = 'A'\n",
    "        elif char == 'G':\n",
    "            char = 'C'\n",
    "        elif char == 'C':\n",
    "            char = 'G'\n",
    "        result += char\n",
    "    return \n",
    "\n",
    "# nieuwe functie:\n",
    "def substitute(string, d):\n",
    "    \"\"\"Substitutes characters in a string based on a dictionary d\"\"\"\n",
    "    result = ''\n",
    "    for char in string:\n",
    "        \n",
    "    # return result\n",
    "\n",
    "d = {'A':'T', 'T':'A', 'G':'C', 'C':'G'}\n",
    "original = 'AGTAGCGTCCTTAGTTACAGGATGGCTTAT'\n",
    "#expected = 'TCATCGCAGGAATCAATGTCCTACCGAATA'\n",
    "expected = substitude(string=original, d=d)"
   ]
  },
  {
   "cell_type": "markdown",
   "id": "9aef3464",
   "metadata": {
    "slideshow": {
     "slide_type": "slide"
    }
   },
   "source": [
    "## Dictionaries (6): oefeningen 2\n"
   ]
  },
  {
   "cell_type": "markdown",
   "id": "6bf6a8e5",
   "metadata": {
    "cell_style": "split"
   },
   "source": [
    "1. Schrijf een functie `reverse_dict(d)` om een dictionary \"om te draaien\"\n",
    "2. Gebruik deze functie om van het woordenboek `english_dutch` in een `dutch_english` woordenboek te maken.\n"
   ]
  },
  {
   "cell_type": "code",
   "execution_count": 63,
   "id": "dca33c4a",
   "metadata": {
    "cell_style": "split"
   },
   "outputs": [],
   "source": [
    "### input\n",
    "english_dutch = {'dog': 'hond', 'tree': 'boom',\n",
    "                 'sun': 'zon', 'chair': 'stoel'} \n",
    "# dutch_english =  reverse_dict(english_dutch)\n",
    "### gewenst resultaat :\n",
    "# {'hond': 'dog', 'boom': 'tree', \n",
    "# 'zon': 'sun', 'stoel': 'chair'} \n"
   ]
  },
  {
   "cell_type": "markdown",
   "id": "25a491c4",
   "metadata": {
    "cell_style": "center",
    "slideshow": {
     "slide_type": "fragment"
    }
   },
   "source": [
    "3. Wat zou een probleem kunnen zijn van de `reverse_dict` functie? Probeer het volgende dictionary om te draaien: `prices = {'apple': 2, 'box': 5, 'cat': 100, 'dog': 100, 'banana': 2}`"
   ]
  },
  {
   "cell_type": "markdown",
   "id": "aceb96fc",
   "metadata": {
    "slideshow": {
     "slide_type": "fragment"
    }
   },
   "source": [
    "4. Schrijf een functie `een_klinker(text, klinker=\"u\")` die de `substitute` functie gebruikt om  alle klinkers in een text het zelfde te maken. Voorbeeld: `een_klinke(\"Ik heb honger.\", klinker= \"u\") ->  \"Uk hub hungur.\"`"
   ]
  },
  {
   "cell_type": "markdown",
   "id": "1c4aad82",
   "metadata": {
    "slideshow": {
     "slide_type": "slide"
    }
   },
   "source": [
    "# Python en GIS\n",
    "## In GIS programmas / databases:\n",
    "\n",
    "   - QGIS: [__PyQGIS__](https://docs.qgis.org/3.22/en/docs/pyqgis_developer_cookbook/index.html)\n",
    "   - ArcGIS: [__arcpy__](https://pro.arcgis.com/en/pro-app/latest/arcpy/main/arcgis-pro-arcpy-reference.htm)\n",
    "   - FME: [__fme__](http://docs.safe.com/fme/html/fmepython/)\n",
    "   - PostGIS, SpatialLite: [GEOAalchemy](https://geoalchemy-2.readthedocs.io/) (PostGIS, SpatialLite) gebaseerd op [SQLAchemy](https://sqlalchemy.org/)\n",
    "   - `gdal` / `ogr` console programmas: [GDAL](https://gdal.org/api/python.html)\n",
    "    \n"
   ]
  },
  {
   "cell_type": "markdown",
   "id": "f761ca6a",
   "metadata": {
    "slideshow": {
     "slide_type": "slide"
    }
   },
   "source": [
    "## Python vector packages\n",
    "\n",
    "* [Shapely](http://toblerity.org/shapely/) voor geometrische operaties\n",
    "* [GeoPandas](http://geopandas.org/) werken met vector datasets, gebaseerd op [Pandas](http://pandas.pydata.org/) \n",
    "* [pyproj](https://github.com/jswhit/pyproj) voor geo projecties \n",
    "* [Fiona](http://toblerity.org/fiona/) ruimtelijke data converteren\n",
    "* [osmnx](https://osmnx.readthedocs.io/en/stable/) network analysis \n",
    "* [geopy](https://pypi.org/project/geopy/) geocoding\n",
    "* ..."
   ]
  },
  {
   "cell_type": "markdown",
   "id": "9b3d0862",
   "metadata": {},
   "source": [
    "## Python raster analysis\n",
    "\n",
    "-   [Xarray](https://docs.xarray.dev/) en [gerelateerde packages](https://docs.xarray.dev/en/stable/ecosystem.html): [geocube](https://corteva.github.io/geocube/stable/getting_started.html), [GeoWombat](https://github.com/jgrss/geowombat) ...\n",
    "- [rasterio](https://rasterio.readthedocs.io/en/latest/)"
   ]
  },
  {
   "cell_type": "markdown",
   "id": "c7057ea2",
   "metadata": {
    "slideshow": {
     "slide_type": "slide"
    }
   },
   "source": [
    "# Hoe verder?\n",
    "* __Herhaal de basis__! Bij voorbeeld [cscircles](https://cscircles.cemc.uwaterloo.ca/), [kaggle.com](https://www.kaggle.com/learn/python) of [datacamp](https://www.datacamp.com/courses/intro-to-python-for-data-science). Zie ook [het officiële Python tutorial](https://docs.python.org/3/tutorial/index.html)\n",
    "\n",
    "* __Volgende stappen__:\n",
    "    * Packages instaleren: [`pip`](https://realpython.com/what-is-pip/) en [virtual environments](https://realpython.com/python-virtual-environments-a-primer/), zie ook [python.org](https://docs.python.org/3/tutorial/venv.html)\n",
    "    * [Pandas tutorial](https://www.kaggle.com/learn/pandas): pandas is de meest gebruikte package voor werken met tabular data en eerste stap om vector GIS data met GeoPandas te gebruiken)\n",
    "    * [Data visualisatie tutorial](https://www.kaggle.com/learn/data-visualization)\n",
    "    * [Eigene `classes` schrijven](https://realpython.com/python3-object-oriented-programming): schrijf eigen types van objects om fucntionaliteit aan data toetevoegen. (zie ook [officiël introductie](https://docs.python.org/3/tutorial/classes.html/))\n",
    "\n",
    "* __GIS Vector__: \n",
    "    * [WUR: Python vector packages](https://geoscripting-wur.github.io/PythonVector/): ogr, folium, Geopandas\n",
    "    * [kaggle.com: Basics Geospatial Analysis](https://www.kaggle.com/learn/geospatial-analysis) Geopandas, geopy\n",
    "* __GIS Raster__:\n",
    "    * [WUR: Python rasterio introduction](https://geoscripting-wur.github.io/PythonRaster/)\n",
    "* __QGIS__: [PyQGIS developer cookbook](https://docs.qgis.org/3.22/en/docs/pyqgis_developer_cookbook/index.html)\n",
    "* __ArcGIS Pro__: [tutorial](https://learn.arcgis.com/en/projects/get-started-with-python-in-arcgis-pro/)\n",
    "* [__FME__ python introductie](https://community.safe.com/s/article/python-and-fme-basics)\n"
   ]
  },
  {
   "cell_type": "code",
   "execution_count": null,
   "id": "29406094",
   "metadata": {},
   "outputs": [],
   "source": []
  }
 ],
 "metadata": {
  "celltoolbar": "Diavoorstelling",
  "kernelspec": {
   "display_name": "Python 3 (ipykernel)",
   "language": "python",
   "name": "python3"
  },
  "language_info": {
   "codemirror_mode": {
    "name": "ipython",
    "version": 3
   },
   "file_extension": ".py",
   "mimetype": "text/x-python",
   "name": "python",
   "nbconvert_exporter": "python",
   "pygments_lexer": "ipython3",
   "version": "3.10.6"
  },
  "rise": {
   "auto_select": "none",
   "theme": "white"
  },
  "toc": {
   "base_numbering": 1,
   "nav_menu": {},
   "number_sections": false,
   "sideBar": true,
   "skip_h1_title": false,
   "title_cell": "Table of Contents",
   "title_sidebar": "Contents",
   "toc_cell": false,
   "toc_position": {
    "height": "266px",
    "left": "50px",
    "top": "742.133px",
    "width": "280.2px"
   },
   "toc_section_display": false,
   "toc_window_display": false
  },
  "toc-autonumbering": false,
  "toc-showcode": false,
  "toc-showmarkdowntxt": false,
  "toc-showtags": false,
  "vscode": {
   "interpreter": {
    "hash": "cb84000e53ff0fecd99a61233a62e4c146a4a6dcddeaabb2d337d39cf356d9ab"
   }
  }
 },
 "nbformat": 4,
 "nbformat_minor": 5
}
