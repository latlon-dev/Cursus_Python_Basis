{
 "cells": [
  {
   "cell_type": "markdown",
   "id": "2f6dbd22",
   "metadata": {
    "slideshow": {
     "slide_type": "slide"
    }
   },
   "source": [
    "<center>\n",
    "    <h4>Cursus</h4>\n",
    "    <h1>Python Basis</h1>\n",
    "    <img width=160px src=\"python.png\"/>\n",
    "    <br>\n",
    "    <img width=180px src=\"nieuwland-geo.png\"/>\n",
    "</center>\n",
    "\n"
   ]
  },
  {
   "cell_type": "markdown",
   "id": "071101cc",
   "metadata": {
    "slideshow": {
     "slide_type": "slide"
    }
   },
   "source": [
    "# Overzicht dag 1\n",
    "## Dag 1\n",
    "   * Pyhton console\n",
    "   * Variablen\n",
    "   * Python Types\n",
    "   * Functies oproepen\n",
    "   * Loops & if-else\n",
    "   * Lists\n",
    "   * Methoden\n",
    "   * Functies schrijven"
   ]
  },
  {
   "attachments": {
    "8325e865-cf8b-47a2-a743-c09cd8f164d9.png": {
     "image/png": "[encoded data removed]"
    }
   },
   "cell_type": "markdown",
   "id": "e2383974",
   "metadata": {
    "jp-MarkdownHeadingCollapsed": true,
    "slideshow": {
     "slide_type": "slide"
    },
    "tags": []
   },
   "source": [
    "# Python Console\n",
    "* Systeem opdrachtprompt: `python`\n",
    "\n",
    "![python_console.png](attachment:8325e865-cf8b-47a2-a743-c09cd8f164d9.png)\n",
    "* Online console bij voorbeeld [futurecoder.io](https://futurecoder.io/course/#IntroducingTheShell)!"
   ]
  },
  {
   "cell_type": "markdown",
   "id": "b03529bd",
   "metadata": {
    "slideshow": {
     "slide_type": "slide"
    },
    "tags": []
   },
   "source": [
    "# Variablen\n",
    "* “opberglocaties” voor gegevens in een programma.\n",
    "* specifiek en hoofdlettergevoelig naam\n",
    "\n"
   ]
  },
  {
   "cell_type": "code",
   "execution_count": 95,
   "id": "f300a176-537c-42da-ba55-4799939ad5d1",
   "metadata": {},
   "outputs": [],
   "source": [
    "width = 13\n",
    "height = 4.75"
   ]
  },
  {
   "cell_type": "code",
   "execution_count": 96,
   "id": "87881749-d762-4119-a57d-abc2a30b08f1",
   "metadata": {
    "slideshow": {
     "slide_type": "fragment"
    },
    "tags": []
   },
   "outputs": [
    {
     "data": {
      "text/plain": [
       "13"
      ]
     },
     "execution_count": 96,
     "metadata": {},
     "output_type": "execute_result"
    }
   ],
   "source": [
    "width"
   ]
  },
  {
   "cell_type": "code",
   "execution_count": 97,
   "id": "604991c8",
   "metadata": {
    "slideshow": {
     "slide_type": "fragment"
    }
   },
   "outputs": [
    {
     "name": "stdout",
     "output_type": "stream",
     "text": [
      "61.75\n"
     ]
    }
   ],
   "source": [
    "area = width * height\n",
    "print(area)"
   ]
  },
  {
   "cell_type": "code",
   "execution_count": 98,
   "id": "7001de92",
   "metadata": {
    "scrolled": true,
    "slideshow": {
     "slide_type": "fragment"
    }
   },
   "outputs": [
    {
     "ename": "NameError",
     "evalue": "name 'volume' is not defined",
     "output_type": "error",
     "traceback": [
      "\u001b[0;31m---------------------------------------------------------------------------\u001b[0m",
      "\u001b[0;31mNameError\u001b[0m                                 Traceback (most recent call last)",
      "Cell \u001b[0;32mIn [98], line 1\u001b[0m\n\u001b[0;32m----> 1\u001b[0m \u001b[43mvolume\u001b[49m\n",
      "\u001b[0;31mNameError\u001b[0m: name 'volume' is not defined"
     ]
    }
   ],
   "source": [
    "volume"
   ]
  },
  {
   "cell_type": "markdown",
   "id": "4adbec32",
   "metadata": {
    "slideshow": {
     "slide_type": "-"
    }
   },
   "source": [
    "Oefeningen: [IntroducingVariables](https://futurecoder.io/course/#IntroducingVariables)"
   ]
  },
  {
   "cell_type": "markdown",
   "id": "4f8fb09d",
   "metadata": {
    "slideshow": {
     "slide_type": "slide"
    },
    "tags": []
   },
   "source": [
    "# Python Types\n",
    "* Geheel getal (integer)"
   ]
  },
  {
   "cell_type": "code",
   "execution_count": 60,
   "id": "c238b51d",
   "metadata": {},
   "outputs": [
    {
     "data": {
      "text/plain": [
       "int"
      ]
     },
     "execution_count": 60,
     "metadata": {},
     "output_type": "execute_result"
    }
   ],
   "source": [
    "width = 10\n",
    "type(width)"
   ]
  },
  {
   "cell_type": "markdown",
   "id": "b4fb0907",
   "metadata": {
    "slideshow": {
     "slide_type": "fragment"
    }
   },
   "source": [
    "* Kommagetal (float)"
   ]
  },
  {
   "cell_type": "code",
   "execution_count": 61,
   "id": "77a4d451",
   "metadata": {
    "slideshow": {
     "slide_type": "-"
    }
   },
   "outputs": [
    {
     "name": "stdout",
     "output_type": "stream",
     "text": [
      "47.5\n"
     ]
    },
    {
     "data": {
      "text/plain": [
       "float"
      ]
     },
     "execution_count": 61,
     "metadata": {},
     "output_type": "execute_result"
    }
   ],
   "source": [
    "area = width * height\n",
    "print(area)\n",
    "type(area)"
   ]
  },
  {
   "cell_type": "markdown",
   "id": "d85c0950",
   "metadata": {
    "slideshow": {
     "slide_type": "slide"
    },
    "tags": []
   },
   "source": [
    "## Python Types (2)\n",
    "* String: text"
   ]
  },
  {
   "cell_type": "code",
   "execution_count": 62,
   "id": "c0355ac0",
   "metadata": {},
   "outputs": [
    {
     "data": {
      "text/plain": [
       "str"
      ]
     },
     "execution_count": 62,
     "metadata": {},
     "output_type": "execute_result"
    }
   ],
   "source": [
    "name = \"Monty\"\n",
    "type(name)"
   ]
  },
  {
   "cell_type": "markdown",
   "id": "d3db53e9",
   "metadata": {
    "slideshow": {
     "slide_type": "fragment"
    }
   },
   "source": [
    "* Boolean: `True` of `False` "
   ]
  },
  {
   "cell_type": "code",
   "execution_count": null,
   "id": "6dfaf73a",
   "metadata": {
    "slideshow": {
     "slide_type": "-"
    }
   },
   "outputs": [],
   "source": [
    "a = True\n",
    "type(a)"
   ]
  },
  {
   "cell_type": "markdown",
   "id": "1f462937",
   "metadata": {
    "slideshow": {
     "slide_type": "slide"
    },
    "tags": []
   },
   "source": [
    "## Python Types (3)\n",
    "* Gedrag van python verschilt per type:"
   ]
  },
  {
   "cell_type": "code",
   "execution_count": null,
   "id": "680d383b",
   "metadata": {
    "slideshow": {
     "slide_type": "-"
    }
   },
   "outputs": [],
   "source": [
    "1 + 1"
   ]
  },
  {
   "cell_type": "code",
   "execution_count": null,
   "id": "c2231832",
   "metadata": {},
   "outputs": [],
   "source": [
    "\"1\" + \"1\""
   ]
  },
  {
   "cell_type": "markdown",
   "id": "b9bba90b",
   "metadata": {
    "slideshow": {
     "slide_type": "slide"
    },
    "tags": []
   },
   "source": [
    "## Python Types (4) Typeconversie:"
   ]
  },
  {
   "cell_type": "code",
   "execution_count": null,
   "id": "eac0dab6",
   "metadata": {},
   "outputs": [],
   "source": [
    "number_text = str(42)\n",
    "print(number_text)\n",
    "print(name + number_text)"
   ]
  },
  {
   "cell_type": "code",
   "execution_count": null,
   "id": "ae9053ca",
   "metadata": {},
   "outputs": [],
   "source": [
    "print(int(\"1\") + 13)"
   ]
  },
  {
   "cell_type": "code",
   "execution_count": null,
   "id": "7b871abf",
   "metadata": {},
   "outputs": [],
   "source": [
    "print(int(\"abc\"))"
   ]
  },
  {
   "cell_type": "markdown",
   "id": "e1d0485c",
   "metadata": {},
   "source": [
    "[Oefeningen types](https://cscircles.cemc.uwaterloo.ca/4-types-nl/)"
   ]
  },
  {
   "cell_type": "markdown",
   "id": "f8885a40",
   "metadata": {
    "slideshow": {
     "slide_type": "slide"
    }
   },
   "source": [
    "# Functies oproepen"
   ]
  },
  {
   "cell_type": "code",
   "execution_count": null,
   "id": "2e5140e6",
   "metadata": {
    "scrolled": true,
    "slideshow": {
     "slide_type": "fragment"
    }
   },
   "outputs": [],
   "source": [
    "print(width)\n",
    "type('Text')"
   ]
  },
  {
   "cell_type": "code",
   "execution_count": null,
   "id": "22300c29",
   "metadata": {
    "slideshow": {
     "slide_type": "fragment"
    }
   },
   "outputs": [],
   "source": [
    "round(2.16,1)"
   ]
  },
  {
   "cell_type": "code",
   "execution_count": null,
   "id": "baa74c40",
   "metadata": {
    "slideshow": {
     "slide_type": "fragment"
    }
   },
   "outputs": [],
   "source": [
    "round"
   ]
  },
  {
   "cell_type": "markdown",
   "id": "00733257",
   "metadata": {
    "slideshow": {
     "slide_type": "fragment"
    }
   },
   "source": [
    "* Herbruikbare stukjes code\n",
    "* Aantal __argumenten__ die tussen haakjes staan: `round(2.15, 1)`\n",
    "* Verglijbaar met Excel functies `=AFRONDEN(A2;1)` "
   ]
  },
  {
   "cell_type": "markdown",
   "id": "3264a6cb",
   "metadata": {
    "slideshow": {
     "slide_type": "slide"
    }
   },
   "source": [
    "## Functies oproepen (2): hulp en argumenten"
   ]
  },
  {
   "cell_type": "code",
   "execution_count": null,
   "id": "2bef3ae2",
   "metadata": {
    "scrolled": true,
    "slideshow": {
     "slide_type": "-"
    }
   },
   "outputs": [],
   "source": [
    "help(round)"
   ]
  },
  {
   "cell_type": "code",
   "execution_count": null,
   "id": "f552c006",
   "metadata": {
    "slideshow": {
     "slide_type": "fragment"
    }
   },
   "outputs": [],
   "source": [
    "rounded_number = round(2.16)\n",
    "print(rounded_number)\n",
    "type(rounded_number)"
   ]
  },
  {
   "cell_type": "code",
   "execution_count": null,
   "id": "bd2755e0",
   "metadata": {
    "slideshow": {
     "slide_type": "fragment"
    }
   },
   "outputs": [],
   "source": [
    "round(222.16, -2)"
   ]
  },
  {
   "cell_type": "markdown",
   "id": "68599907",
   "metadata": {
    "slideshow": {
     "slide_type": "slide"
    }
   },
   "source": [
    "## Functies oproepen\n",
    "[Oefeningen](https://cscircles.cemc.uwaterloo.ca/2-functions-nl/)"
   ]
  },
  {
   "cell_type": "markdown",
   "id": "b7f6919d",
   "metadata": {
    "slideshow": {
     "slide_type": "slide"
    }
   },
   "source": [
    "# Commentaar\n",
    "* Annotaties in het script\n",
    "* Beschrijft het __waarom__\n",
    "* `python` ignoreert commentaar!"
   ]
  },
  {
   "cell_type": "code",
   "execution_count": null,
   "id": "162db0d6",
   "metadata": {},
   "outputs": [],
   "source": [
    "print('a') # hier volgt commentaar\n",
    "# code tijdelijk \"\"uitcommentariëren\"\": \n",
    "# print('b') \n",
    "print('c') # commentaar helpt jij en anderen je script te begrijpen "
   ]
  },
  {
   "cell_type": "markdown",
   "id": "fc10dfc4",
   "metadata": {
    "slideshow": {
     "slide_type": "slide"
    }
   },
   "source": [
    "# For loops"
   ]
  },
  {
   "cell_type": "code",
   "execution_count": null,
   "id": "e225f4a3",
   "metadata": {},
   "outputs": [],
   "source": [
    "name = 'Bob'\n",
    "for i in name: \n",
    "    print(i)"
   ]
  },
  {
   "cell_type": "markdown",
   "id": "7d3a7da4",
   "metadata": {},
   "source": [
    " * een __blok__ van aanweizingen __voor een vast aantal keren uit te voeren__, bijvoorbeeld voor het aantal\n",
    "letters in een woord."
   ]
  },
  {
   "cell_type": "markdown",
   "id": "46ed25cb",
   "metadata": {
    "slideshow": {
     "slide_type": "slide"
    }
   },
   "source": [
    "## For loops (2): inspringing\n",
    "* Python leidt af waar het blok begint en eindigt door inspectie van de __inspringing__, \n",
    "    * Je moet een zelfde aantal spaties plaatsen voor iedere regel in het blok.\n",
    "    * (Andere talen gebruiken hiervoor vaak accoladen { }.)"
   ]
  },
  {
   "cell_type": "code",
   "execution_count": null,
   "id": "b0961564",
   "metadata": {},
   "outputs": [],
   "source": [
    "name = 'Bob'\n",
    "for i in name: \n",
    "    print(i)\n",
    "    print('!')"
   ]
  },
  {
   "cell_type": "code",
   "execution_count": null,
   "id": "bc4d77ae",
   "metadata": {
    "slideshow": {
     "slide_type": "fragment"
    }
   },
   "outputs": [],
   "source": [
    "name = 'Bob'\n",
    "for i in name: \n",
    "    print(i)\n",
    "print('!')"
   ]
  },
  {
   "cell_type": "markdown",
   "id": "193f6a40",
   "metadata": {
    "slideshow": {
     "slide_type": "slide"
    }
   },
   "source": [
    "## For loops\n",
    "[Oefenigen](https://futurecoder.io/course/#IntroducingForLoops)"
   ]
  },
  {
   "cell_type": "markdown",
   "id": "1223f71c",
   "metadata": {
    "slideshow": {
     "slide_type": "slide"
    }
   },
   "source": [
    "# If\n",
    "* `if`: een voorwaarde nagaan (is leeftijd groter dan 65?) en bepaalde opdrachten uitvoeren\n",
    "* net als bij `for` worden inspringen gebruikt"
   ]
  },
  {
   "cell_type": "code",
   "execution_count": 63,
   "id": "20747a96",
   "metadata": {},
   "outputs": [
    {
     "name": "stdout",
     "output_type": "stream",
     "text": [
      "Jij bent 26 jaar\n"
     ]
    }
   ],
   "source": [
    "geboorteJaar = 1988\n",
    "huidigJaar = 2014\n",
    "leeftijd = huidigJaar - geboorteJaar\n",
    "if leeftijd > 65:\n",
    "    print('Geniet van uw pensioen!')\n",
    "print('Jij bent', leeftijd, 'jaar')"
   ]
  },
  {
   "cell_type": "markdown",
   "id": "dcf8a056",
   "metadata": {
    "slideshow": {
     "slide_type": "slide"
    }
   },
   "source": [
    "# Else en elif "
   ]
  },
  {
   "cell_type": "code",
   "execution_count": 64,
   "id": "3c11f8f0",
   "metadata": {},
   "outputs": [
    {
     "name": "stdout",
     "output_type": "stream",
     "text": [
      "Yes\n"
     ]
    }
   ],
   "source": [
    "condition = True\n",
    "if condition:\n",
    "    print('Yes')\n",
    "else:\n",
    "    print('No')"
   ]
  },
  {
   "cell_type": "code",
   "execution_count": 65,
   "id": "b8014408",
   "metadata": {
    "slideshow": {
     "slide_type": "fragment"
    }
   },
   "outputs": [
    {
     "name": "stdout",
     "output_type": "stream",
     "text": [
      "I'm younger.\n"
     ]
    }
   ],
   "source": [
    "my_age = 35\n",
    "your_age = 40\n",
    "if my_age == your_age:\n",
    "    print(\"We're share the same age.\")\n",
    "elif my_age < your_age:\n",
    "    print(\"I'm younger.\")\n",
    "else: print(\"I'm older.\")"
   ]
  },
  {
   "cell_type": "markdown",
   "id": "97ecd041",
   "metadata": {},
   "source": [
    "[Oefeningen](https://futurecoder.io/course/#IntroducingIfStatements)"
   ]
  },
  {
   "cell_type": "markdown",
   "id": "a9c8ce57",
   "metadata": {
    "slideshow": {
     "slide_type": "slide"
    }
   },
   "source": [
    "# Lijsten\n",
    "* Data Science, GIS: vaak reeks van waarden\n",
    "* Python: `list` (In vele andere programmeertalen : `array`)"
   ]
  },
  {
   "cell_type": "code",
   "execution_count": null,
   "id": "3ea44f72",
   "metadata": {},
   "outputs": [],
   "source": [
    "measurement1 = 11.1\n",
    "measurement2 = 12.2\n",
    "measurement3 = 13.3\n",
    "measurement4 = 14.4"
   ]
  },
  {
   "cell_type": "code",
   "execution_count": null,
   "id": "3f0f053f",
   "metadata": {
    "slideshow": {
     "slide_type": "fragment"
    }
   },
   "outputs": [],
   "source": [
    "measurements = [11.1, 12.2, 13.3, 14.4]   \n",
    "print(type(measurements))"
   ]
  },
  {
   "cell_type": "code",
   "execution_count": null,
   "id": "44768ae0",
   "metadata": {
    "slideshow": {
     "slide_type": "fragment"
    }
   },
   "outputs": [],
   "source": [
    "# loop over the the list and print one element per line:\n",
    "for i in measurements:\n",
    "    print(i)"
   ]
  },
  {
   "cell_type": "markdown",
   "id": "cd9c82b1",
   "metadata": {
    "slideshow": {
     "slide_type": "slide"
    }
   },
   "source": [
    "## Lijsten (2): index\n",
    "* Lijst element oproepen met idex `measurements[0]` \n",
    "* __het eerste element heeft index 0!__"
   ]
  },
  {
   "cell_type": "code",
   "execution_count": null,
   "id": "acc8c908",
   "metadata": {
    "scrolled": true
   },
   "outputs": [],
   "source": [
    "print(measurements[0])\n",
    "\n",
    "print(measurements[2:4])\n",
    "print(measurements[1:])\n",
    "\n",
    "measurements[1] = 22.2222 # lijst  bewerken!\n",
    "print(measurements)"
   ]
  },
  {
   "cell_type": "markdown",
   "id": "c0a3116b",
   "metadata": {
    "slideshow": {
     "slide_type": "slide"
    }
   },
   "source": [
    "## Lijsten (3): Slicing & lengte\n",
    "* bereik van een lijst \"selecteren\":  `measurements[1:2]` verglijkbaar met Excel bereik (A1:A4)"
   ]
  },
  {
   "cell_type": "code",
   "execution_count": null,
   "id": "e5887b35",
   "metadata": {
    "slideshow": {
     "slide_type": "-"
    }
   },
   "outputs": [],
   "source": [
    "print(measurements[-1])\n",
    "print(measurements[:-2])"
   ]
  },
  {
   "cell_type": "code",
   "execution_count": null,
   "id": "6dadfd70",
   "metadata": {
    "slideshow": {
     "slide_type": "fragment"
    }
   },
   "outputs": [],
   "source": [
    "print(len(measurements))\n",
    "print(measurements[:len(measurements)])\n",
    "\n"
   ]
  },
  {
   "cell_type": "markdown",
   "id": "635bf458",
   "metadata": {
    "slideshow": {
     "slide_type": "slide"
    }
   },
   "source": [
    "### Lijsten (4)\n",
    "* Lijstem samenvoegen: `+`"
   ]
  },
  {
   "cell_type": "code",
   "execution_count": null,
   "id": "c94cad40",
   "metadata": {
    "scrolled": true
   },
   "outputs": [],
   "source": [
    "more_measurements = measurements + [15.5, 16.6]\n",
    "print(more_measurements)"
   ]
  },
  {
   "cell_type": "markdown",
   "id": "c7c42370",
   "metadata": {
    "slideshow": {
     "slide_type": "fragment"
    }
   },
   "source": [
    "* Twee namen voor een lijst (__!= kopiëren__)\n",
    "* Elk naam is een __verwijzing naar de zelfde lijst__"
   ]
  },
  {
   "cell_type": "code",
   "execution_count": null,
   "id": "468dfdf4",
   "metadata": {
    "slideshow": {
     "slide_type": "fragment"
    }
   },
   "outputs": [],
   "source": [
    "m2 = measurements\n",
    "print(m2)"
   ]
  },
  {
   "cell_type": "code",
   "execution_count": null,
   "id": "667276de",
   "metadata": {},
   "outputs": [],
   "source": [
    "measurements[0] = 100.0\n",
    "print(m2)"
   ]
  },
  {
   "cell_type": "markdown",
   "id": "535b858d",
   "metadata": {},
   "source": [
    "[Oefeningen](https://futurecoder.io/course/#IntroducingLists)"
   ]
  },
  {
   "cell_type": "markdown",
   "id": "79eb8235",
   "metadata": {
    "slideshow": {
     "slide_type": "slide"
    }
   },
   "source": [
    "# Methoden\n",
    "\n",
    "* Alle variablen zijn \"__objects__\" \n",
    "* objects hebben \n",
    "    * een _type_\n",
    "    * __methods__:\n",
    "        * net als een functie, maar hoort bij een object"
   ]
  },
  {
   "cell_type": "markdown",
   "id": "584cf90a",
   "metadata": {
    "slideshow": {
     "slide_type": "fragment"
    }
   },
   "source": [
    "|Voorbeeld                |Type          |Methoden                          |\n",
    "|-------------------------|--------------|----------------------------------|\n",
    "|`text = 'abc'`           | `str`        | `.replace()`, `.upper()`, ...    |\n",
    "|`decimal_number = '1.33'`| `float`      | `.as_integer_ratio()`, ... |\n",
    "|`m2 =[1,2,3]'`           | `list`       | `.append()`, `.reverse()`, ...        |\n"
   ]
  },
  {
   "cell_type": "markdown",
   "id": "e696f8ea",
   "metadata": {
    "slideshow": {
     "slide_type": "slide"
    }
   },
   "source": [
    "## Methoden (2)"
   ]
  },
  {
   "cell_type": "code",
   "execution_count": null,
   "id": "72832567",
   "metadata": {},
   "outputs": [],
   "source": [
    "print(dir(measurements)) # get all attributes and methods of an object\n",
    "    "
   ]
  },
  {
   "cell_type": "code",
   "execution_count": null,
   "id": "a0f6b4f8",
   "metadata": {
    "slideshow": {
     "slide_type": "fragment"
    }
   },
   "outputs": [],
   "source": [
    "measurements.__class__"
   ]
  },
  {
   "cell_type": "code",
   "execution_count": null,
   "id": "7ef7bc48",
   "metadata": {
    "slideshow": {
     "slide_type": "fragment"
    }
   },
   "outputs": [],
   "source": [
    "measurements.reverse"
   ]
  },
  {
   "cell_type": "code",
   "execution_count": null,
   "id": "01f69fd1",
   "metadata": {
    "slideshow": {
     "slide_type": "fragment"
    }
   },
   "outputs": [],
   "source": [
    "print(measurements)\n",
    "measurements.reverse()\n",
    "print(measurements)"
   ]
  },
  {
   "cell_type": "markdown",
   "id": "fb91b5df",
   "metadata": {
    "slideshow": {
     "slide_type": "slide"
    }
   },
   "source": [
    "# Werken met strings (1): methoden\n",
    "* `string` methoden"
   ]
  },
  {
   "cell_type": "code",
   "execution_count": null,
   "id": "a8fe9abe",
   "metadata": {
    "slideshow": {
     "slide_type": "fragment"
    }
   },
   "outputs": [],
   "source": [
    "text = \"Arnhem is de hoofdstad van Gelderland.\"\n",
    "print(text.upper())\n",
    "print(text.replace('Arnhem', 'Bemmel'))\n",
    "print(text.index('e'))\n"
   ]
  },
  {
   "cell_type": "code",
   "execution_count": null,
   "id": "c8e9127b",
   "metadata": {},
   "outputs": [],
   "source": [
    "print(text[0:9]) \n",
    "print(text[-11:-1]) # van achter"
   ]
  },
  {
   "cell_type": "markdown",
   "id": "c0662505",
   "metadata": {
    "slideshow": {
     "slide_type": "slide"
    }
   },
   "source": [
    "## Werken met strings (2): index\n",
    "* _Index_ & _slice_ (net als met lijsten)\n",
    "* Anders dan lijsten kunnen _strings_ __niet verandert__ worden! (strings zijn niet _mutuable_)"
   ]
  },
  {
   "cell_type": "code",
   "execution_count": 101,
   "id": "b501b64b",
   "metadata": {},
   "outputs": [
    {
     "name": "stdout",
     "output_type": "stream",
     "text": [
      "Arnhem is\n",
      "Gelderland\n"
     ]
    }
   ],
   "source": [
    "print(text[0:9]) \n",
    "print(text[-11:-1]) "
   ]
  },
  {
   "cell_type": "code",
   "execution_count": 100,
   "id": "0b077f7e",
   "metadata": {
    "slideshow": {
     "slide_type": "fragment"
    }
   },
   "outputs": [
    {
     "ename": "TypeError",
     "evalue": "'str' object does not support item assignment",
     "output_type": "error",
     "traceback": [
      "\u001b[0;31m---------------------------------------------------------------------------\u001b[0m",
      "\u001b[0;31mTypeError\u001b[0m                                 Traceback (most recent call last)",
      "Cell \u001b[0;32mIn [100], line 2\u001b[0m\n\u001b[1;32m      1\u001b[0m text \u001b[38;5;241m=\u001b[39m \u001b[38;5;124m\"\u001b[39m\u001b[38;5;124mArnhem is de hoofdstad van Gelderland.\u001b[39m\u001b[38;5;124m\"\u001b[39m\n\u001b[0;32m----> 2\u001b[0m \u001b[43mtext\u001b[49m\u001b[43m[\u001b[49m\u001b[38;5;241;43m4\u001b[39;49m\u001b[43m]\u001b[49m \u001b[38;5;241m=\u001b[39m \u001b[38;5;124m'\u001b[39m\u001b[38;5;124ma\u001b[39m\u001b[38;5;124m'\u001b[39m\n",
      "\u001b[0;31mTypeError\u001b[0m: 'str' object does not support item assignment"
     ]
    }
   ],
   "source": [
    "text = \"Arnhem is de hoofdstad van Gelderland.\"\n",
    "text[4] = 'a' # -> TypeError!"
   ]
  },
  {
   "cell_type": "markdown",
   "id": "428f77ac-c00f-4e0a-9704-827ec69eb12b",
   "metadata": {},
   "source": [
    "[Oefeningen](https://cscircles.cemc.uwaterloo.ca/14-methods-nl/)"
   ]
  },
  {
   "cell_type": "markdown",
   "id": "4a2a71fe",
   "metadata": {
    "slideshow": {
     "slide_type": "slide"
    }
   },
   "source": [
    "# Functies schrijven\n",
    "* __DRY__ principe: Dont repeat yourself\n",
    "* functies maken delen van een scrip hergebruikbar "
   ]
  },
  {
   "cell_type": "code",
   "execution_count": null,
   "id": "700172f4",
   "metadata": {},
   "outputs": [],
   "source": [
    "name = \"Joeri\"\n",
    "print(\"Hello \"+ name)\n",
    "name = \"Kay\"\n",
    "print(\"Hello \"+ name)\n",
    "name = \"Pascal\"\n",
    "print(\"Hello \"+ name)"
   ]
  },
  {
   "cell_type": "markdown",
   "id": "c876f0f5",
   "metadata": {
    "slideshow": {
     "slide_type": "slide"
    }
   },
   "source": [
    "## Functies schrijven (2)\n"
   ]
  },
  {
   "cell_type": "code",
   "execution_count": null,
   "id": "38d31fd0",
   "metadata": {
    "slideshow": {
     "slide_type": "-"
    }
   },
   "outputs": [],
   "source": [
    "def greet(name):\n",
    "    \"\"\"Print a name specific greeting.\"\"\"\n",
    "    print(\"Hello \" + name)"
   ]
  },
  {
   "cell_type": "code",
   "execution_count": null,
   "id": "e9bf7528",
   "metadata": {
    "slideshow": {
     "slide_type": "fragment"
    }
   },
   "outputs": [],
   "source": [
    "greet(\"Joeri\")\n",
    "greet(name)"
   ]
  },
  {
   "cell_type": "code",
   "execution_count": null,
   "id": "0f136630",
   "metadata": {
    "slideshow": {
     "slide_type": "fragment"
    }
   },
   "outputs": [],
   "source": [
    "help(greet)"
   ]
  },
  {
   "cell_type": "markdown",
   "id": "4071a6be",
   "metadata": {
    "slideshow": {
     "slide_type": "slide"
    }
   },
   "source": [
    "## Functies schrijven (3): return\n",
    "* Sommige functies (zoals `print`) geven geen waarde terug. \n",
    "* Er gebeurt wel iets. Dit noemen we een _side effect_"
   ]
  },
  {
   "cell_type": "code",
   "execution_count": null,
   "id": "d5e962cd",
   "metadata": {
    "slideshow": {
     "slide_type": "-"
    }
   },
   "outputs": [],
   "source": [
    "a = greet(\"Alex\")\n"
   ]
  },
  {
   "cell_type": "code",
   "execution_count": null,
   "id": "9f9589fe",
   "metadata": {},
   "outputs": [],
   "source": [
    "print(a)"
   ]
  },
  {
   "cell_type": "markdown",
   "id": "c7b841df",
   "metadata": {
    "slideshow": {
     "slide_type": "fragment"
    }
   },
   "source": [
    "De meeste functies geven wel een waarde terug. Bijvoorbeeld `len()`:"
   ]
  },
  {
   "cell_type": "code",
   "execution_count": null,
   "id": "157ddeb5",
   "metadata": {},
   "outputs": [],
   "source": [
    "b = len(\"Alex\")"
   ]
  },
  {
   "cell_type": "code",
   "execution_count": null,
   "id": "5e5c30b9",
   "metadata": {},
   "outputs": [],
   "source": [
    "print(b)"
   ]
  },
  {
   "cell_type": "markdown",
   "id": "00818139",
   "metadata": {
    "slideshow": {
     "slide_type": "slide"
    }
   },
   "source": [
    "### Functies (3): return"
   ]
  },
  {
   "cell_type": "code",
   "execution_count": 92,
   "id": "85869005",
   "metadata": {
    "slideshow": {
     "slide_type": "slide"
    }
   },
   "outputs": [],
   "source": [
    "def getGreeeting(name):\n",
    "    \"\"\"Constructs a name specific greeting greeting\"\"\"\n",
    "    return \"Hello \" + name"
   ]
  },
  {
   "cell_type": "code",
   "execution_count": 93,
   "id": "6ef9b83e",
   "metadata": {
    "slideshow": {
     "slide_type": "subslide"
    }
   },
   "outputs": [],
   "source": [
    "greeting = getGreeeting(\"Pascal\") # geen output!"
   ]
  },
  {
   "cell_type": "code",
   "execution_count": 94,
   "id": "7b654e01",
   "metadata": {
    "slideshow": {
     "slide_type": "slide"
    }
   },
   "outputs": [
    {
     "name": "stdout",
     "output_type": "stream",
     "text": [
      "Hello Pascal\n"
     ]
    }
   ],
   "source": [
    "print(greeting)"
   ]
  },
  {
   "cell_type": "markdown",
   "id": "65e5ac10",
   "metadata": {
    "slideshow": {
     "slide_type": "slide"
    }
   },
   "source": [
    "## Functies: oefeningen\n",
    "[DefiningFunctions](https://futurecoder.io/course/#DefiningFunctions)"
   ]
  },
  {
   "cell_type": "markdown",
   "id": "6b44748f-482d-4870-87d8-277901394a6d",
   "metadata": {
    "slideshow": {
     "slide_type": "slide"
    },
    "tags": []
   },
   "source": [
    "# Dictionaries\n",
    "* Te vergelijken met een woordenboek: woordenboek is een verzameling van items, die allen een sleutel (een woord) en een waarde\n",
    "(de betekenis van dat woord) hebben.\n",
    "* Een `dictionary` bestaat uit zogenoemde __key-value paren__, die omsloten worden door accolades (net als bij een set). \n",
    "    * De __key__ is een unieke sleutel (in plaats van een index), die aangeeft waar we de gegevens kunnen vinden.\n",
    "    * De __value__ bevat die gegevens. \n",
    "* Lijkt op JSON"
   ]
  },
  {
   "cell_type": "code",
   "execution_count": 83,
   "id": "6eb2a2c4-a1ce-420c-949a-2b31926ac835",
   "metadata": {},
   "outputs": [
    {
     "name": "stdout",
     "output_type": "stream",
     "text": [
      "{'woord_1': 'uitleg_1', 'woord_2': 'uitleg_2', 'woord_3': 'uitleg_3'}\n"
     ]
    }
   ],
   "source": [
    "woordenboek = {'woord_1': 'uitleg_1', 'woord_2': 'uitleg_2','woord_3': 'uitleg_3'}\n",
    "print(woordenboek)\n"
   ]
  },
  {
   "cell_type": "code",
   "execution_count": 84,
   "id": "dbb85716-20cc-450d-bb87-cc221b4aba02",
   "metadata": {},
   "outputs": [
    {
     "data": {
      "text/plain": [
       "dict_keys(['woord_1', 'woord_2', 'woord_3'])"
      ]
     },
     "execution_count": 84,
     "metadata": {},
     "output_type": "execute_result"
    }
   ],
   "source": [
    "woordenboek.keys()"
   ]
  },
  {
   "cell_type": "code",
   "execution_count": 85,
   "id": "cf477166-67a7-4487-8bb8-c402c62d74ca",
   "metadata": {},
   "outputs": [
    {
     "data": {
      "text/plain": [
       "dict_values(['uitleg_1', 'uitleg_2', 'uitleg_3'])"
      ]
     },
     "execution_count": 85,
     "metadata": {},
     "output_type": "execute_result"
    }
   ],
   "source": [
    "woordenboek.values()"
   ]
  },
  {
   "cell_type": "markdown",
   "id": "d3efbd12-0b20-4b9d-8106-3d5d0e88d3b6",
   "metadata": {},
   "source": [
    "[Oefeningen](https://learnpython.org/en/Dictionarieshttps://learnpython.org/en/Dictionaries)"
   ]
  },
  {
   "cell_type": "markdown",
   "id": "e08e8e25-337f-45e2-b172-d25c456a14c2",
   "metadata": {
    "slideshow": {
     "slide_type": "slide"
    },
    "tags": []
   },
   "source": [
    "## Dictionaries (2)\n",
    "* values kunnen met de key worden opgeroepen en bewerkt"
   ]
  },
  {
   "cell_type": "code",
   "execution_count": 86,
   "id": "e5a70c6c-eeaa-40ef-ac64-8242463d1dd3",
   "metadata": {},
   "outputs": [
    {
     "data": {
      "text/plain": [
       "'uitleg_1'"
      ]
     },
     "execution_count": 86,
     "metadata": {},
     "output_type": "execute_result"
    }
   ],
   "source": [
    "woordenboek['woord_1']"
   ]
  },
  {
   "cell_type": "code",
   "execution_count": 102,
   "id": "6c88f4d8-7fb2-4846-81be-2899cb71c349",
   "metadata": {},
   "outputs": [
    {
     "name": "stdout",
     "output_type": "stream",
     "text": [
      "{'woord_1': 'uitleg_1', 'woord_2': 'uitleg_2', 'woord_3': 'uitleg_3', 'woord_4': 'uitleg_4'}\n"
     ]
    }
   ],
   "source": [
    "woordenboek['woord_4'] = 'uitleg_4'\n",
    "print(woordenboek)"
   ]
  },
  {
   "cell_type": "markdown",
   "id": "277b8407-12ed-4c29-b6bd-daf433a91885",
   "metadata": {
    "slideshow": {
     "slide_type": "slide"
    },
    "tags": []
   },
   "source": [
    "## Dictionaries (3):loops\n"
   ]
  },
  {
   "cell_type": "code",
   "execution_count": 88,
   "id": "532ac2d1-8eb8-4c0b-ade8-aa42d6c26dca",
   "metadata": {},
   "outputs": [
    {
     "name": "stdout",
     "output_type": "stream",
     "text": [
      "woord_1 betekend uitleg_1\n",
      "woord_2 betekend uitleg_2\n",
      "woord_3 betekend uitleg_3\n",
      "woord_4 betekend uitleg 4\n"
     ]
    }
   ],
   "source": [
    "for woord, uitleg in woordenboek.items():\n",
    "    print(woord + ' betekend '+ uitleg)"
   ]
  },
  {
   "cell_type": "code",
   "execution_count": null,
   "id": "afa269dd-db55-4296-8768-d6880b328713",
   "metadata": {},
   "outputs": [],
   "source": []
  },
  {
   "cell_type": "code",
   "execution_count": null,
   "id": "11af4e31-baa2-4e00-9252-cf0fd21d9077",
   "metadata": {},
   "outputs": [],
   "source": []
  }
 ],
 "metadata": {
  "celltoolbar": "Slideshow",
  "kernelspec": {
   "display_name": "Python 3 (ipykernel)",
   "language": "python",
   "name": "python3"
  },
  "language_info": {
   "codemirror_mode": {
    "name": "ipython",
    "version": 3
   },
   "file_extension": ".py",
   "mimetype": "text/x-python",
   "name": "python",
   "nbconvert_exporter": "python",
   "pygments_lexer": "ipython3",
   "version": "3.10.6"
  },
  "rise": {
   "auto_select": "none",
   "theme": "white"
  },
  "toc-autonumbering": false,
  "toc-showcode": false,
  "toc-showmarkdowntxt": false,
  "toc-showtags": false
 },
 "nbformat": 4,
 "nbformat_minor": 5
}
