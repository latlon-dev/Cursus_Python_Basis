{
 "cells": [
  {
   "cell_type": "markdown",
   "id": "2f6dbd22",
   "metadata": {
    "slideshow": {
     "slide_type": "slide"
    }
   },
   "source": [
    "<center>\n",
    "    <h1>Python Basis</h1>\n",
    "    <img src=\"https://s3.dualstack.us-east-2.amazonaws.com/pythondotorg-assets/media/community/logos/python-logo-only.png\"/>\n",
    "    <br>\n",
    "    <h4> Cursus dag 1</h4>\n",
    "    <img width=180px src=\"https://www.nieuwlandgeo.nl/wp-content/themes/nieuwland/img/nieuwland-geo-informatie.png\"/>\n",
    "</center>\n",
    "\n"
   ]
  },
  {
   "cell_type": "markdown",
   "id": "071101cc",
   "metadata": {
    "slideshow": {
     "slide_type": "slide"
    }
   },
   "source": [
    "# Overzicht dag 1\n",
    "## Dag 1\n",
    "   * Python console\n",
    "   * Variabelen \n",
    "   * IDEs & Debugging\n",
    "   * Functies oproepen\n",
    "   * Scripts schrijven en uitvoeren\n",
    "   * Loops & if-else\n",
    "   * Lists\n",
    "   * Methoden"
   ]
  },
  {
   "cell_type": "markdown",
   "id": "e2383974",
   "metadata": {
    "jp-MarkdownHeadingCollapsed": true,
    "slideshow": {
     "slide_type": "slide"
    },
    "tags": []
   },
   "source": [
    "# Python opdrachtprompt\n",
    "* Open je systeem opdrachtprompt en run command: `python3`\n",
    "\n",
    "```python\n",
    "$ python3\n",
    "Python 3.10.6 (main, Mar 10 2023, 10:55:28) [GCC 11.3.0] on linux\n",
    "Type \"help\", \"copyright\", \"credits\" or \"license\" for more information.\n",
    ">>> \n",
    "```\n",
    "\n",
    "* gebruik `quit()` of `Cntrl-D` om de pythonprompt te aftesluiten.\n",
    "* The python opdrachtprompt wordt ook _python REPL_ (Read-Eval-Print Loop), _python interactive shell_ of _python console_ genoemd\n",
    "* Warom python**3**? Op veel compters is ook nog een oudere python2 geinstelleerd. Python2 is veroudert, probeer altijd python3 te gebruiken"
   ]
  },
  {
   "cell_type": "markdown",
   "id": "b03529bd",
   "metadata": {
    "slideshow": {
     "slide_type": "slide"
    },
    "tags": []
   },
   "source": [
    "# Variabelen\n",
    "* Voorbeeld: oppervlakte berekenen: `Area = width * height`"
   ]
  },
  {
   "cell_type": "code",
   "execution_count": 10,
   "id": "709a6ef3",
   "metadata": {
    "cell_style": "split",
    "slideshow": {
     "slide_type": "fragment"
    }
   },
   "outputs": [
    {
     "data": {
      "text/plain": [
       "63.6975"
      ]
     },
     "execution_count": 10,
     "metadata": {},
     "output_type": "execute_result"
    }
   ],
   "source": [
    "13.41 * 4.75"
   ]
  },
  {
   "cell_type": "code",
   "execution_count": 11,
   "id": "028f4019",
   "metadata": {
    "cell_style": "split",
    "slideshow": {
     "slide_type": "fragment"
    }
   },
   "outputs": [
    {
     "data": {
      "text/plain": [
       "63.6975"
      ]
     },
     "execution_count": 11,
     "metadata": {},
     "output_type": "execute_result"
    }
   ],
   "source": [
    "width = 13.41\n",
    "height = 4.75\n",
    "width * height"
   ]
  },
  {
   "cell_type": "markdown",
   "id": "1ff5fd5f",
   "metadata": {
    "slideshow": {
     "slide_type": "fragment"
    }
   },
   "source": [
    "Een waarde aanpassen:"
   ]
  },
  {
   "cell_type": "code",
   "execution_count": 12,
   "id": "f300a176-537c-42da-ba55-4799939ad5d1",
   "metadata": {
    "cell_style": "split",
    "slideshow": {
     "slide_type": "fragment"
    }
   },
   "outputs": [
    {
     "data": {
      "text/plain": [
       "26.82"
      ]
     },
     "execution_count": 12,
     "metadata": {},
     "output_type": "execute_result"
    }
   ],
   "source": [
    "13.41 * 2"
   ]
  },
  {
   "cell_type": "code",
   "execution_count": 13,
   "id": "87881749-d762-4119-a57d-abc2a30b08f1",
   "metadata": {
    "cell_style": "split",
    "scrolled": true,
    "slideshow": {
     "slide_type": "fragment"
    },
    "tags": []
   },
   "outputs": [
    {
     "data": {
      "text/plain": [
       "26.82"
      ]
     },
     "execution_count": 13,
     "metadata": {},
     "output_type": "execute_result"
    }
   ],
   "source": [
    "height = 2\n",
    "width * height"
   ]
  },
  {
   "cell_type": "markdown",
   "id": "34accbea",
   "metadata": {
    "slideshow": {
     "slide_type": "fragment"
    }
   },
   "source": [
    "Resultaat hergebruiken:"
   ]
  },
  {
   "cell_type": "code",
   "execution_count": 14,
   "id": "f014635f",
   "metadata": {
    "cell_style": "split",
    "slideshow": {
     "slide_type": "-"
    }
   },
   "outputs": [
    {
     "data": {
      "text/plain": [
       "26.82"
      ]
     },
     "execution_count": 14,
     "metadata": {},
     "output_type": "execute_result"
    }
   ],
   "source": [
    "13.41 * 2"
   ]
  },
  {
   "cell_type": "code",
   "execution_count": 15,
   "id": "ee360cfd",
   "metadata": {
    "cell_style": "split"
   },
   "outputs": [
    {
     "data": {
      "text/plain": [
       "26.82"
      ]
     },
     "execution_count": 15,
     "metadata": {},
     "output_type": "execute_result"
    }
   ],
   "source": [
    "area = width * height\n",
    "area"
   ]
  },
  {
   "cell_type": "markdown",
   "id": "ac90000b",
   "metadata": {
    "slideshow": {
     "slide_type": "slide"
    }
   },
   "source": [
    "## Variabelen (2)\n",
    "* “opberglocaties” voor gegevens in een programma.\n",
    "* Specifiek en hoofdlettergevoelig naam, conventie voor namen: `kleine_letters_laag_streepje`\n",
    "* __Geen automatische updates!__\n",
    "* `=` is toewijzing operator, **niet** gelijkteken\n",
    "* Python berekend eerst het resultaat berekend, en wijst dan aan de variabele toe."
   ]
  },
  {
   "cell_type": "code",
   "execution_count": 16,
   "id": "3e857371",
   "metadata": {
    "cell_style": "center",
    "slideshow": {
     "slide_type": "fragment"
    }
   },
   "outputs": [
    {
     "name": "stdout",
     "output_type": "stream",
     "text": [
      "26.82\n"
     ]
    }
   ],
   "source": [
    "height = 1.433\n",
    "print(area)"
   ]
  },
  {
   "cell_type": "code",
   "execution_count": null,
   "id": "e8562167",
   "metadata": {
    "slideshow": {
     "slide_type": "fragment"
    }
   },
   "outputs": [],
   "source": [
    "area = width * height\n",
    "print(area)"
   ]
  },
  {
   "cell_type": "code",
   "execution_count": null,
   "id": "7001de92",
   "metadata": {
    "scrolled": false,
    "slideshow": {
     "slide_type": "fragment"
    }
   },
   "outputs": [],
   "source": [
    "volume"
   ]
  },
  {
   "cell_type": "markdown",
   "id": "4adbec32",
   "metadata": {
    "slideshow": {
     "slide_type": "slide"
    }
   },
   "source": [
    "# Variabelen: Oefeningen\n",
    "\n",
    "[IntroducingVariables](https://futurecoder.io/course/#IntroducingVariables)\n",
    "\n",
    "De links naar de oefeningen staan op:\n",
    "\n",
    "### [github.com/latlon-dev](https://github.com/latlon-dev)\n",
    "`->` _Cursus_Python_Basis_"
   ]
  },
  {
   "cell_type": "markdown",
   "id": "4f8fb09d",
   "metadata": {
    "slideshow": {
     "slide_type": "slide"
    },
    "tags": []
   },
   "source": [
    "# Scripts schrijven en uitvoeren\n",
    "* Om dezelfde code meerdere keren uit te voeren, sla je hem als script.\n",
    "* Je slaat je script dan op als `.py`-bestand. Deze bestanden worden ook Pyhton **modules** genoemd.\n",
    "* In de systeem opdrachtprompt kan je scripts uitvoeren met  `python mijn_script_naam.py`"
   ]
  },
  {
   "cell_type": "markdown",
   "id": "b7f6919d",
   "metadata": {
    "slideshow": {
     "slide_type": "slide"
    }
   },
   "source": [
    "# Commentaar\n",
    "* Annotaties in het script\n",
    "* Beschrijft het __waarom__\n",
    "* `python` ignoreert commentaar!"
   ]
  },
  {
   "cell_type": "code",
   "execution_count": null,
   "id": "162db0d6",
   "metadata": {},
   "outputs": [],
   "source": [
    "print('a') # hier volgt commentaar\n",
    "# code tijdelijk \"\"uitcommentariëren\"\": \n",
    "# print('b') \n",
    "print('c') # commentaar helpt jij en anderen je script te begrijpen "
   ]
  },
  {
   "cell_type": "markdown",
   "id": "84ea412b",
   "metadata": {
    "slideshow": {
     "slide_type": "slide"
    }
   },
   "source": [
    "# Python Software-ontwikkelomgevingen (IDEs) \n",
    "Voordelen van een IDE:\n",
    "\n",
    "* Project organiseren\n",
    "* Debugging:\n",
    "    * stap voor stap door je code\n",
    "    * overzicht over alle variabelen\n",
    "* Gemak en efficiëntie: autocompletion, formatting, linting\n"
   ]
  },
  {
   "cell_type": "markdown",
   "id": "1aa5554c",
   "metadata": {
    "slideshow": {
     "slide_type": "slide"
    }
   },
   "source": [
    "# Veel gebruikte IDEs voor Python:\n",
    "* __`Python` specific__\n",
    "    * PyCharm\n",
    "    * WingIDE\n",
    "    * [Thonny](https://thonny.org/) (voor beginners, gebruikt in deze cursus)\n",
    "    * Online: [futurecoder.io](https://futurecoder.io/course/#ide)\n",
    "* __Universele IDEs__:\n",
    "    * [VSCode](https://code.visualstudio.com/docs/python/python-tutorial)\n",
    "    * Online: [replit.com](https://replit.com/join/mgjvvgnpnw-latlondev) \n",
    "* __Jupyter Notebooks__\n",
    "    * Vermengen van text en code, zoals deze presentatie.\n",
    "    * Online: [kaggle.com](https://www.kaggle.com/code), [Google colab](https://colab.research.google.com/), [mybinder.org](mybinder.org) (voor notebooks op github)"
   ]
  },
  {
   "cell_type": "markdown",
   "id": "9c869d50",
   "metadata": {
    "slideshow": {
     "slide_type": "slide"
    }
   },
   "source": [
    "# Debuging in een IDE\n",
    "* __Breakpoints__ en stap voor stap uitvoeren\n",
    "* __Variabelen lijst__: waarde van alle varaiblen tijdens het uitvoeren\n",
    "* __Debug console__: je kan tijdens het debuggen interactief commandos gebruiken!\n",
    "\n",
    "## Oefen in Thonny\n",
    "* Schrijf een script en zet een breakpoint\n",
    "* Let goed op de variabelen lijst!\n",
    "* Schrijf een script met een foutje!"
   ]
  },
  {
   "cell_type": "code",
   "execution_count": null,
   "id": "dca32eec",
   "metadata": {
    "slideshow": {
     "slide_type": "fragment"
    }
   },
   "outputs": [],
   "source": [
    "# hello.py\n",
    "name  = \"Abby\"\n",
    "greeting = \"hello \" + name + \"!\"\n",
    "print(greeting)\n",
    "print(other_greeting)"
   ]
  },
  {
   "cell_type": "markdown",
   "id": "fc10dfc4",
   "metadata": {
    "slideshow": {
     "slide_type": "slide"
    }
   },
   "source": [
    "# For loops"
   ]
  },
  {
   "cell_type": "code",
   "execution_count": 17,
   "id": "e225f4a3",
   "metadata": {},
   "outputs": [
    {
     "name": "stdout",
     "output_type": "stream",
     "text": [
      "5\n",
      "5\n",
      "4\n",
      "4\n",
      "a\n",
      "z\n",
      "o\n"
     ]
    }
   ],
   "source": [
    "name = 'Bob'\n",
    "for any_var_name in 5, 4: \n",
    "    print(any_var_name) \n",
    "    print(any_var_name) \n",
    "print(\"a\")\n",
    "print(\"z\")\n",
    "print(i)"
   ]
  },
  {
   "cell_type": "markdown",
   "id": "7d3a7da4",
   "metadata": {},
   "source": [
    " * een __blok__ van aanweizingen __voor een vast aantal keren uit te voeren__, bijvoorbeeld voor het aantal\n",
    "letters in een woord."
   ]
  },
  {
   "cell_type": "markdown",
   "id": "46ed25cb",
   "metadata": {
    "slideshow": {
     "slide_type": "slide"
    }
   },
   "source": [
    "## For loops (2): inspringing\n",
    "* Python leidt af waar het blok begint en eindigt door inspectie van de __inspringing__, \n",
    "    * Je moet een zelfde aantal spaties plaatsen voor iedere regel in het blok.\n",
    "    * (Andere talen gebruiken hiervoor vaak accoladen { }.)"
   ]
  },
  {
   "cell_type": "code",
   "execution_count": 18,
   "id": "b0961564",
   "metadata": {},
   "outputs": [
    {
     "name": "stdout",
     "output_type": "stream",
     "text": [
      "B\n",
      "!\n",
      "o\n",
      "!\n",
      "b\n",
      "!\n"
     ]
    }
   ],
   "source": [
    "name = 'Bob'\n",
    "for i in name: \n",
    "    print(i)\n",
    "    print('!')\n",
    "x = 0\n"
   ]
  },
  {
   "cell_type": "code",
   "execution_count": null,
   "id": "bc4d77ae",
   "metadata": {
    "slideshow": {
     "slide_type": "fragment"
    }
   },
   "outputs": [],
   "source": [
    "name = 'Bob'\n",
    "for i in name: \n",
    "    print(i)\n",
    "print('!')"
   ]
  },
  {
   "cell_type": "markdown",
   "id": "193f6a40",
   "metadata": {
    "slideshow": {
     "slide_type": "slide"
    }
   },
   "source": [
    "## For loops\n",
    "[Oefenigen](https://futurecoder.io/course/#IntroducingForLoops)"
   ]
  },
  {
   "cell_type": "markdown",
   "id": "1223f71c",
   "metadata": {
    "slideshow": {
     "slide_type": "slide"
    }
   },
   "source": [
    "# Als - dan Beslissingen\n",
    "* Soms wil je keuzes maken in je programma. Als dit, dan dat.\n",
    "* `if`: een voorwaarde nagaan (is leeftijd groter dan 65?) en bepaalde opdrachten uitvoeren\n",
    "* net als bij `for` worden inspringen gebruikt\n",
    "* `=` toewijsings operator,  `==`, `<`, `!=`, ... vergelijkings operatoren!"
   ]
  },
  {
   "cell_type": "code",
   "execution_count": 25,
   "id": "20747a96",
   "metadata": {},
   "outputs": [
    {
     "name": "stdout",
     "output_type": "stream",
     "text": [
      "je hebt een andere lefftijd dan ik\n",
      "leuk om met je te praten\n"
     ]
    }
   ],
   "source": [
    "geboorteJaar = 1987\n",
    "huidigJaar = 2022\n",
    "leeftijd = huidigJaar - geboorteJaar\n",
    "if leeftijd == 36:\n",
    "    print(\"je bent even oud als ik!\")\n",
    "else:\n",
    "    print(\"je hebt een andere lefftijd dan ik\")\n",
    "print(\"leuk om met je te praten\")"
   ]
  },
  {
   "cell_type": "markdown",
   "id": "dcf8a056",
   "metadata": {
    "slideshow": {
     "slide_type": "slide"
    }
   },
   "source": [
    "# Else en elif "
   ]
  },
  {
   "cell_type": "code",
   "execution_count": 4,
   "id": "3c11f8f0",
   "metadata": {},
   "outputs": [
    {
     "name": "stdout",
     "output_type": "stream",
     "text": [
      "Nog  38  jaren werken!\n"
     ]
    }
   ],
   "source": [
    "leeftijd = 27\n",
    "if leeftijd > 65:\n",
    "    print('Geniet van uw pensioen!')\n",
    "    print('Jij bent', leeftijd, 'jaar')\n",
    "else:\n",
    "    jaren_tot_pensioen = 65 - leeftijd\n",
    "    print(\"Nog \", jaren_tot_pensioen, \" jaren werken!\")"
   ]
  },
  {
   "cell_type": "code",
   "execution_count": 40,
   "id": "dea96e90",
   "metadata": {
    "slideshow": {
     "slide_type": "fragment"
    }
   },
   "outputs": [
    {
     "name": "stdout",
     "output_type": "stream",
     "text": [
      "We're share the same age.\n"
     ]
    }
   ],
   "source": [
    "# check who is older:\n",
    "my_age = 35\n",
    "your_age = 40\n",
    "if my_age <= your_age: \n",
    "    print(\"We're share the same age.\")\n",
    "elif my_age < your_age: \n",
    "    print(\"I'm younger.\")\n",
    "else: \n",
    "    print(\"I'm older.\")"
   ]
  },
  {
   "cell_type": "markdown",
   "id": "97ecd041",
   "metadata": {},
   "source": [
    "[Oefeningen](https://futurecoder.io/course/#IntroducingIfStatements)"
   ]
  },
  {
   "cell_type": "markdown",
   "id": "fc4019ca",
   "metadata": {
    "slideshow": {
     "slide_type": "slide"
    }
   },
   "source": [
    "# Waarheidswaarde: Boolean Variabelen\n",
    "Waarheidswaarde (ja, klopt of nee, fout) wordt in variable opgeslagen als `True` of `False`\n"
   ]
  },
  {
   "cell_type": "code",
   "execution_count": 31,
   "id": "1a33626a",
   "metadata": {},
   "outputs": [
    {
     "data": {
      "text/plain": [
       "True"
      ]
     },
     "execution_count": 31,
     "metadata": {},
     "output_type": "execute_result"
    }
   ],
   "source": [
    "my_age = 40\n",
    "your_age = 40\n",
    "my_age == your_age"
   ]
  },
  {
   "cell_type": "code",
   "execution_count": 7,
   "id": "5b8fe04a",
   "metadata": {
    "slideshow": {
     "slide_type": "fragment"
    }
   },
   "outputs": [
    {
     "name": "stdout",
     "output_type": "stream",
     "text": [
      "False\n"
     ]
    }
   ],
   "source": [
    "younger = my_age < your_age\n",
    "older = my_age > your_age\n",
    "print(older)"
   ]
  },
  {
   "cell_type": "markdown",
   "id": "d2930200",
   "metadata": {
    "slideshow": {
     "slide_type": "slide"
    }
   },
   "source": [
    "\n",
    "## Waarheidswaarde en Beslissingen"
   ]
  },
  {
   "cell_type": "code",
   "execution_count": 34,
   "id": "884ebf90",
   "metadata": {},
   "outputs": [
    {
     "name": "stdout",
     "output_type": "stream",
     "text": [
      "no!\n"
     ]
    }
   ],
   "source": [
    "younger = False\n",
    "if younger:\n",
    "    print(\"I'm younger!\")\n",
    "else: print(\"no!\")"
   ]
  },
  {
   "cell_type": "code",
   "execution_count": 38,
   "id": "44032bd1",
   "metadata": {
    "slideshow": {
     "slide_type": "fragment"
    }
   },
   "outputs": [
    {
     "name": "stdout",
     "output_type": "stream",
     "text": [
      "klopt\n"
     ]
    }
   ],
   "source": [
    "if False + True:\n",
    "    print(\"klopt\")"
   ]
  },
  {
   "cell_type": "markdown",
   "id": "395ecc05",
   "metadata": {
    "slideshow": {
     "slide_type": "slide"
    }
   },
   "source": [
    "# Functies oproepen"
   ]
  },
  {
   "cell_type": "code",
   "execution_count": 41,
   "id": "50fc20cc",
   "metadata": {
    "slideshow": {
     "slide_type": "fragment"
    }
   },
   "outputs": [
    {
     "name": "stdout",
     "output_type": "stream",
     "text": [
      "Hello!\n"
     ]
    }
   ],
   "source": [
    "print(\"Hello!\")"
   ]
  },
  {
   "cell_type": "code",
   "execution_count": 52,
   "id": "6b9b58b0",
   "metadata": {
    "slideshow": {
     "slide_type": "fragment"
    }
   },
   "outputs": [
    {
     "data": {
      "text/plain": [
       "'abc'"
      ]
     },
     "execution_count": 52,
     "metadata": {},
     "output_type": "execute_result"
    }
   ],
   "source": [
    "a "
   ]
  },
  {
   "cell_type": "code",
   "execution_count": 50,
   "id": "2b03162f",
   "metadata": {
    "slideshow": {
     "slide_type": "fragment"
    }
   },
   "outputs": [
    {
     "data": {
      "text/plain": [
       "2.1697"
      ]
     },
     "execution_count": 50,
     "metadata": {},
     "output_type": "execute_result"
    }
   ],
   "source": [
    "round(2.169709877, 4)"
   ]
  },
  {
   "cell_type": "code",
   "execution_count": 56,
   "id": "50ef6099",
   "metadata": {
    "slideshow": {
     "slide_type": "fragment"
    }
   },
   "outputs": [
    {
     "data": {
      "text/plain": [
       "3"
      ]
     },
     "execution_count": 56,
     "metadata": {},
     "output_type": "execute_result"
    }
   ],
   "source": [
    "round(len(\"abc\"))"
   ]
  },
  {
   "cell_type": "markdown",
   "id": "94f7cd94",
   "metadata": {
    "slideshow": {
     "slide_type": "fragment"
    }
   },
   "source": [
    "* Functies zijn __herbruikbare__ stukjes code\n",
    "* Aantal __argumenten__ die tussen haakjes staan: `round(2.15, 1)`\n",
    "* Vergelijkbaar met Excel functies `=AFRONDEN(A2;1)` "
   ]
  },
  {
   "cell_type": "markdown",
   "id": "cbd494ec",
   "metadata": {
    "slideshow": {
     "slide_type": "slide"
    }
   },
   "source": [
    "## Functies oproepen (2): hulp en argumenten"
   ]
  },
  {
   "cell_type": "code",
   "execution_count": 57,
   "id": "78b308b9",
   "metadata": {
    "scrolled": true,
    "slideshow": {
     "slide_type": "-"
    }
   },
   "outputs": [
    {
     "name": "stdout",
     "output_type": "stream",
     "text": [
      "Help on built-in function round in module builtins:\n",
      "\n",
      "round(number, ndigits=None)\n",
      "    Round a number to a given precision in decimal digits.\n",
      "    \n",
      "    The return value is an integer if ndigits is omitted or None.  Otherwise\n",
      "    the return value has the same type as the number.  ndigits may be negative.\n",
      "\n"
     ]
    }
   ],
   "source": [
    "help(round)"
   ]
  },
  {
   "cell_type": "code",
   "execution_count": 63,
   "id": "124637a8",
   "metadata": {
    "slideshow": {
     "slide_type": "fragment"
    }
   },
   "outputs": [],
   "source": [
    "rounded_number = round(2.16)\n",
    "round = 10"
   ]
  },
  {
   "cell_type": "code",
   "execution_count": 66,
   "id": "46a75433",
   "metadata": {
    "slideshow": {
     "slide_type": "fragment"
    }
   },
   "outputs": [
    {
     "ename": "TypeError",
     "evalue": "'int' object is not callable",
     "output_type": "error",
     "traceback": [
      "\u001b[0;31m---------------------------------------------------------------------------\u001b[0m",
      "\u001b[0;31mTypeError\u001b[0m                                 Traceback (most recent call last)",
      "Cell \u001b[0;32mIn [66], line 1\u001b[0m\n\u001b[0;32m----> 1\u001b[0m \u001b[38;5;28;43mround\u001b[39;49m\u001b[43m(\u001b[49m\u001b[38;5;241;43m11\u001b[39;49m\u001b[43m)\u001b[49m\n",
      "\u001b[0;31mTypeError\u001b[0m: 'int' object is not callable"
     ]
    }
   ],
   "source": [
    "round(11)"
   ]
  },
  {
   "cell_type": "markdown",
   "id": "08e82a84",
   "metadata": {
    "slideshow": {
     "slide_type": "slide"
    }
   },
   "source": [
    "## Functies oproepen: extra oefeningen\n",
    "[Extra oefeningen (NL)](https://cscircles.cemc.uwaterloo.ca/2-functions-nl/)"
   ]
  },
  {
   "cell_type": "markdown",
   "id": "a9c8ce57",
   "metadata": {
    "slideshow": {
     "slide_type": "slide"
    }
   },
   "source": [
    "# Lijsten\n",
    "* Data Science, GIS: vaak reeks van waarden\n",
    "* Python: `list` (In vele andere programmeertalen : `array`)"
   ]
  },
  {
   "cell_type": "code",
   "execution_count": 68,
   "id": "3ea44f72",
   "metadata": {},
   "outputs": [],
   "source": [
    "measurement0 = 0.01\n",
    "measurement1 = 11.1\n",
    "measurement2 = 12.2\n",
    "measurement3 = 13.3\n",
    "measurement4 = 14.4"
   ]
  },
  {
   "cell_type": "code",
   "execution_count": 71,
   "id": "3f0f053f",
   "metadata": {
    "slideshow": {
     "slide_type": "fragment"
    }
   },
   "outputs": [
    {
     "name": "stdout",
     "output_type": "stream",
     "text": [
      "[0.01, 11.1, 12.2, 13.3, 14.4]\n"
     ]
    }
   ],
   "source": [
    "measurements = [0.01, 11.1, 12.2, 13.3, 14.4]   \n",
    "print(measurements)"
   ]
  },
  {
   "cell_type": "code",
   "execution_count": 73,
   "id": "44768ae0",
   "metadata": {
    "slideshow": {
     "slide_type": "fragment"
    }
   },
   "outputs": [
    {
     "name": "stdout",
     "output_type": "stream",
     "text": [
      "0.01\n",
      "11.1\n",
      "12.2\n",
      "13.3\n",
      "14.4\n"
     ]
    }
   ],
   "source": [
    "# loop over the the list and print one element per line:\n",
    "for measurement in measurements:\n",
    "    print(measurement)"
   ]
  },
  {
   "cell_type": "markdown",
   "id": "cd9c82b1",
   "metadata": {
    "slideshow": {
     "slide_type": "slide"
    }
   },
   "source": [
    "## Lijsten (2): index\n",
    "* Lijst element oproepen met idex `measurements[0]` \n",
    "* __het eerste element heeft index 0!__"
   ]
  },
  {
   "cell_type": "code",
   "execution_count": 75,
   "id": "ec44b02b",
   "metadata": {},
   "outputs": [
    {
     "data": {
      "text/plain": [
       "[0.01, 11.1, 12.2, 13.3, 14.4]"
      ]
     },
     "execution_count": 75,
     "metadata": {},
     "output_type": "execute_result"
    }
   ],
   "source": [
    "[measurements]"
   ]
  },
  {
   "cell_type": "code",
   "execution_count": 81,
   "id": "78896d16",
   "metadata": {},
   "outputs": [
    {
     "ename": "TypeError",
     "evalue": "'str' object does not support item assignment",
     "output_type": "error",
     "traceback": [
      "\u001b[0;31m---------------------------------------------------------------------------\u001b[0m",
      "\u001b[0;31mTypeError\u001b[0m                                 Traceback (most recent call last)",
      "Cell \u001b[0;32mIn [81], line 5\u001b[0m\n\u001b[1;32m      1\u001b[0m \u001b[38;5;66;03m# print(measurements[2])\u001b[39;00m\n\u001b[1;32m      2\u001b[0m \u001b[38;5;66;03m# measurements[2] = 222.222\u001b[39;00m\n\u001b[1;32m      3\u001b[0m \u001b[38;5;66;03m# print(measurements)\u001b[39;00m\n\u001b[1;32m      4\u001b[0m t \u001b[38;5;241m=\u001b[39m \u001b[38;5;124m\"\u001b[39m\u001b[38;5;124mabc\u001b[39m\u001b[38;5;124m\"\u001b[39m\n\u001b[0;32m----> 5\u001b[0m \u001b[43mt\u001b[49m\u001b[43m[\u001b[49m\u001b[38;5;241;43m2\u001b[39;49m\u001b[43m]\u001b[49m \u001b[38;5;241m=\u001b[39m \u001b[38;5;124m\"\u001b[39m\u001b[38;5;124ms\u001b[39m\u001b[38;5;124m\"\u001b[39m\n",
      "\u001b[0;31mTypeError\u001b[0m: 'str' object does not support item assignment"
     ]
    }
   ],
   "source": [
    "# print(measurements[2])\n",
    "# measurements[2] = 222.222\n",
    "# print(measurements)\n",
    "t = \"abc\"\n",
    "t[2] = \"s\""
   ]
  },
  {
   "cell_type": "markdown",
   "id": "c0a3116b",
   "metadata": {
    "slideshow": {
     "slide_type": "slide"
    }
   },
   "source": [
    "## Lijsten (3): Slicing & lengte\n",
    "* bereik van een lijst \"selecteren\":  `measurements[1:2]` verglijkbaar met Excel bereik (A1:A4)"
   ]
  },
  {
   "cell_type": "code",
   "execution_count": 88,
   "id": "e5887b35",
   "metadata": {
    "slideshow": {
     "slide_type": "-"
    }
   },
   "outputs": [
    {
     "name": "stdout",
     "output_type": "stream",
     "text": [
      "[0.01, 11.1, 222.222, 13.3, 14.4]\n"
     ]
    }
   ],
   "source": [
    "print(measurements)"
   ]
  },
  {
   "cell_type": "code",
   "execution_count": 92,
   "id": "726c9605",
   "metadata": {},
   "outputs": [
    {
     "name": "stdout",
     "output_type": "stream",
     "text": [
      "14.4\n"
     ]
    }
   ],
   "source": [
    "print(measurements[-1])"
   ]
  },
  {
   "cell_type": "code",
   "execution_count": 93,
   "id": "6dadfd70",
   "metadata": {
    "slideshow": {
     "slide_type": "fragment"
    }
   },
   "outputs": [
    {
     "name": "stdout",
     "output_type": "stream",
     "text": [
      "5\n"
     ]
    }
   ],
   "source": [
    "print(len(measurements))"
   ]
  },
  {
   "cell_type": "markdown",
   "id": "635bf458",
   "metadata": {
    "slideshow": {
     "slide_type": "slide"
    }
   },
   "source": [
    "### Lijsten (4)\n",
    "* Lijstem samenvoegen: `+`"
   ]
  },
  {
   "cell_type": "code",
   "execution_count": 98,
   "id": "c94cad40",
   "metadata": {
    "scrolled": true
   },
   "outputs": [
    {
     "name": "stdout",
     "output_type": "stream",
     "text": [
      "[0.01, 11.1, 222.222, 7, 7, 7, 13.3, 14.4]\n"
     ]
    }
   ],
   "source": [
    "more_measurements = measurements[:3] + [7,7,7] + measurements[3:] \n",
    "print(more_measurements)"
   ]
  },
  {
   "cell_type": "markdown",
   "id": "c7c42370",
   "metadata": {
    "slideshow": {
     "slide_type": "fragment"
    }
   },
   "source": [
    "* Twee namen voor een lijst (__!= kopiëren__)\n",
    "* Elk naam is een __verwijzing naar de zelfde lijst__"
   ]
  },
  {
   "cell_type": "code",
   "execution_count": 99,
   "id": "468dfdf4",
   "metadata": {
    "slideshow": {
     "slide_type": "fragment"
    }
   },
   "outputs": [
    {
     "name": "stdout",
     "output_type": "stream",
     "text": [
      "[0.01, 11.1, 222.222, 13.3, 14.4]\n"
     ]
    }
   ],
   "source": [
    "m2 = measurements\n",
    "print(m2)"
   ]
  },
  {
   "cell_type": "code",
   "execution_count": 109,
   "id": "667276de",
   "metadata": {},
   "outputs": [
    {
     "name": "stdout",
     "output_type": "stream",
     "text": [
      "[0, 1, 2]\n",
      "[0, 1, 2]\n",
      "12\n",
      "[0, 1, 2]\n"
     ]
    }
   ],
   "source": [
    "a = [0,1,2]\n",
    "b = a\n",
    "print(a)\n",
    "print(b)\n",
    "a = 12\n",
    "print(a)\n",
    "print(b)"
   ]
  },
  {
   "cell_type": "markdown",
   "id": "337adec5",
   "metadata": {
    "slideshow": {
     "slide_type": "slide"
    },
    "tags": []
   },
   "source": [
    "# Python Types\n",
    "Elk variable heeft een \"type\". Wij zijn nu al verschillende types tegen gekomen:\n",
    "\n",
    "| Data type       | Voorbeeld               | Variable Type (en afkorting) |\n",
    "|-----------------|-------------------------|------------------------------|\n",
    "| Hele getal      | `age = 32`              | __Integer__  (`int`)         |\n",
    "| Kommagetal      | `decimal_number = 1.33` | __Float__ (`float`)          |\n",
    "| Waarheidswaarde | `younger = True`        | __Boolean__ (`bool`)         |\n",
    "| Tekenreeks      | `text = 'abc'`          | __String__ (`str`)           |\n",
    "| Lijst _         | `m2 =[1,2,3]`           | __List__ (`list`)            |"
   ]
  },
  {
   "cell_type": "code",
   "execution_count": 117,
   "id": "d47a072e",
   "metadata": {
    "slideshow": {
     "slide_type": "fragment"
    }
   },
   "outputs": [
    {
     "data": {
      "text/plain": [
       "builtin_function_or_method"
      ]
     },
     "execution_count": 117,
     "metadata": {},
     "output_type": "execute_result"
    }
   ],
   "source": [
    "type(len)"
   ]
  },
  {
   "cell_type": "markdown",
   "id": "3e1b0769",
   "metadata": {
    "slideshow": {
     "slide_type": "slide"
    },
    "tags": []
   },
   "source": [
    "## Python Types (3)\n",
    "* Gedrag van python verschilt per type:"
   ]
  },
  {
   "cell_type": "code",
   "execution_count": 118,
   "id": "b9766b8c",
   "metadata": {
    "slideshow": {
     "slide_type": "-"
    }
   },
   "outputs": [
    {
     "data": {
      "text/plain": [
       "2"
      ]
     },
     "execution_count": 118,
     "metadata": {},
     "output_type": "execute_result"
    }
   ],
   "source": [
    "1 + 1"
   ]
  },
  {
   "cell_type": "code",
   "execution_count": 119,
   "id": "bdd0947a",
   "metadata": {},
   "outputs": [
    {
     "data": {
      "text/plain": [
       "'11'"
      ]
     },
     "execution_count": 119,
     "metadata": {},
     "output_type": "execute_result"
    }
   ],
   "source": [
    "\"1\" + \"1\""
   ]
  },
  {
   "cell_type": "code",
   "execution_count": 126,
   "id": "6a45dd87",
   "metadata": {},
   "outputs": [
    {
     "data": {
      "text/plain": [
       "'1a1a'"
      ]
     },
     "execution_count": 126,
     "metadata": {},
     "output_type": "execute_result"
    }
   ],
   "source": [
    "# Verschillende types combineren?\n",
    "len('aa') * \"1a\"  "
   ]
  },
  {
   "cell_type": "markdown",
   "id": "fd64fc32",
   "metadata": {
    "slideshow": {
     "slide_type": "slide"
    },
    "tags": []
   },
   "source": [
    "## Python Types (5) extra oefeningen\n",
    "[Extra oefeningen types (NL)](https://cscircles.cemc.uwaterloo.ca/4-types-nl/)"
   ]
  },
  {
   "cell_type": "markdown",
   "id": "79eb8235",
   "metadata": {
    "slideshow": {
     "slide_type": "slide"
    }
   },
   "source": [
    "# Methoden\n",
    "\n",
    "* Alle Variabelen in Python zijn `objects`\n",
    "* Python `objects` hebben \n",
    "    * een `type`\n",
    "    * `attributes` en `methods`: eigenschappen en functies "
   ]
  },
  {
   "cell_type": "markdown",
   "id": "1ea13172-3475-4c92-8110-e09d13a6f1ba",
   "metadata": {
    "slideshow": {
     "slide_type": "skip"
    },
    "tags": []
   },
   "source": [
    "* __String__ `text = 'abc'`:   \n",
    "    * `.replace()` \n",
    "    * `.upper()` \n",
    "    * ...\n",
    "* __Float__: `decimal_number = '1.33'`\n",
    "    * `.as_integer_ratio()`, ...\n",
    "* __List__: `m2 =[1,2,3]'`\n",
    "    * `.append()`\n",
    "    * `.reverse()`\n",
    "    * ...  "
   ]
  },
  {
   "cell_type": "markdown",
   "id": "584cf90a",
   "metadata": {
    "slideshow": {
     "slide_type": "fragment"
    }
   },
   "source": [
    "|Data type |     Voorbeeld                |Variable Type (en afkorting)          | Methoden|\n",
    "|-----------|-------------------------|--------------|--|\n",
    "|Hele getal |`age = 32`             |  __Integer__  (`int`)      | `.to_bytes()` ...|\n",
    "|Kommagetal |`decimal_number = 1.33`|  __Float__ (`float`)|  `.as_integger_ratio()`, ...  |\n",
    "|Waarheidswaarde |`younger = True`|  __Boolean__ (`bool`)   |   |\n",
    "|Tekenreeks |`text = 'abc'`           |  __String__ (`str`)     |  `.replace()`, `.upper()`, ...    |\n",
    "|Lijst _|`m2 =[1,2,3]`           | __List__ (`list`)  |  `.append()`, `.reverse()`, ...        |"
   ]
  },
  {
   "cell_type": "markdown",
   "id": "e696f8ea",
   "metadata": {
    "slideshow": {
     "slide_type": "slide"
    }
   },
   "source": [
    "## Methoden (2): dir(): alle methodes van een object "
   ]
  },
  {
   "cell_type": "code",
   "execution_count": 186,
   "id": "72832567",
   "metadata": {},
   "outputs": [
    {
     "name": "stdout",
     "output_type": "stream",
     "text": [
      "['__abs__', '__add__', '__and__', '__bool__', '__ceil__', '__class__', '__delattr__', '__dir__', '__divmod__', '__doc__', '__eq__', '__float__', '__floor__', '__floordiv__', '__format__', '__ge__', '__getattribute__', '__getnewargs__', '__gt__', '__hash__', '__index__', '__init__', '__init_subclass__', '__int__', '__invert__', '__le__', '__lshift__', '__lt__', '__mod__', '__mul__', '__ne__', '__neg__', '__new__', '__or__', '__pos__', '__pow__', '__radd__', '__rand__', '__rdivmod__', '__reduce__', '__reduce_ex__', '__repr__', '__rfloordiv__', '__rlshift__', '__rmod__', '__rmul__', '__ror__', '__round__', '__rpow__', '__rrshift__', '__rshift__', '__rsub__', '__rtruediv__', '__rxor__', '__setattr__', '__sizeof__', '__str__', '__sub__', '__subclasshook__', '__truediv__', '__trunc__', '__xor__', 'as_integer_ratio', 'bit_count', 'bit_length', 'conjugate', 'denominator', 'from_bytes', 'imag', 'numerator', 'real', 'to_bytes']\n"
     ]
    }
   ],
   "source": [
    "#\n",
    "text = \"Arnhem is de hoofdstad van Gelderland.\"\n",
    "a = True\n",
    "print(dir(a)) # get all attributes and methods of an object\n",
    "    "
   ]
  },
  {
   "cell_type": "code",
   "execution_count": 184,
   "id": "a0f6b4f8",
   "metadata": {
    "slideshow": {
     "slide_type": "fragment"
    }
   },
   "outputs": [
    {
     "data": {
      "text/plain": [
       "False"
      ]
     },
     "execution_count": 184,
     "metadata": {},
     "output_type": "execute_result"
    }
   ],
   "source": [
    "a.is_integer()"
   ]
  },
  {
   "cell_type": "code",
   "execution_count": 185,
   "id": "7ef7bc48",
   "metadata": {
    "slideshow": {
     "slide_type": "fragment"
    }
   },
   "outputs": [
    {
     "data": {
      "text/plain": [
       "1.5"
      ]
     },
     "execution_count": 185,
     "metadata": {},
     "output_type": "execute_result"
    }
   ],
   "source": [
    "a"
   ]
  },
  {
   "cell_type": "code",
   "execution_count": 159,
   "id": "01f69fd1",
   "metadata": {
    "slideshow": {
     "slide_type": "fragment"
    }
   },
   "outputs": [
    {
     "data": {
      "text/plain": [
       "str"
      ]
     },
     "execution_count": 159,
     "metadata": {},
     "output_type": "execute_result"
    }
   ],
   "source": [
    "text.__class__"
   ]
  },
  {
   "cell_type": "markdown",
   "id": "fb91b5df",
   "metadata": {
    "slideshow": {
     "slide_type": "slide"
    }
   },
   "source": [
    "## Methoden (3): string methoden\n"
   ]
  },
  {
   "cell_type": "code",
   "execution_count": 161,
   "id": "a8fe9abe",
   "metadata": {
    "slideshow": {
     "slide_type": "fragment"
    }
   },
   "outputs": [
    {
     "name": "stdout",
     "output_type": "stream",
     "text": [
      "7\n"
     ]
    }
   ],
   "source": [
    "text = \"Arnhem is de hoofdstad van Gelderland.\"\n",
    "#print(text.replace('Arnhem', 'Bemmel'))\n",
    "print(text.index('is'))\n",
    "#print(text)"
   ]
  },
  {
   "cell_type": "markdown",
   "id": "c0662505",
   "metadata": {
    "slideshow": {
     "slide_type": "slide"
    }
   },
   "source": [
    "# Strings vs Lists\n",
    "* _Index_ & _slice_ (net als met lijsten)\n",
    "* Anders dan lijsten kunnen _strings_ __niet verandert__ worden! (strings zijn niet _mutuable_)"
   ]
  },
  {
   "cell_type": "code",
   "execution_count": 163,
   "id": "b501b64b",
   "metadata": {
    "scrolled": true
   },
   "outputs": [
    {
     "name": "stdout",
     "output_type": "stream",
     "text": [
      "Arnhem is\n"
     ]
    }
   ],
   "source": [
    "print(text[0:9]) "
   ]
  },
  {
   "cell_type": "code",
   "execution_count": null,
   "id": "0b077f7e",
   "metadata": {
    "slideshow": {
     "slide_type": "fragment"
    }
   },
   "outputs": [],
   "source": []
  },
  {
   "cell_type": "markdown",
   "id": "98d022cd",
   "metadata": {},
   "source": [
    "* Lijts __kunnen__ verandert worden, ook door methoden:"
   ]
  },
  {
   "cell_type": "code",
   "execution_count": 179,
   "id": "36eb82a2",
   "metadata": {},
   "outputs": [
    {
     "name": "stdout",
     "output_type": "stream",
     "text": [
      "[2, 1, 0]\n",
      "[0, 1, 2]\n"
     ]
    }
   ],
   "source": [
    "print(new_list)\n",
    "print(my_list)"
   ]
  },
  {
   "cell_type": "markdown",
   "id": "428f77ac-c00f-4e0a-9704-827ec69eb12b",
   "metadata": {},
   "source": [
    "[Oefeningen lijsten & methoden](https://futurecoder.io/course/#IntroducingLists)\n",
    "\n",
    "[Extra oefeningen methoden (NL)](https://cscircles.cemc.uwaterloo.ca/14-methods-nl/)"
   ]
  },
  {
   "cell_type": "markdown",
   "id": "c3ce1c01",
   "metadata": {
    "slideshow": {
     "slide_type": "slide"
    }
   },
   "source": [
    "# Huiswerk 1: \n",
    "\n",
    "[Caesar's JVTIVK JRCRU IVTZGV](https://cscircles.cemc.uwaterloo.ca/15c-nl/): schrijf een simple code decrypting script!\n",
    " \n",
    "Doe eerst [deze oefening](https://cscircles.cemc.uwaterloo.ca/7a-strings-nl/#:~:text=Codes%20voor%20karakters)."
   ]
  },
  {
   "cell_type": "markdown",
   "id": "61ff2c9e",
   "metadata": {
    "slideshow": {
     "slide_type": "slide"
    }
   },
   "source": [
    "## Huiswerk 2: optioneel\n",
    "\n",
    "Schrijf een script dat een lijst met strings met coördinaten in  grad, minuut, seconde formaat: `\"ddd°mm′ss′N, ddd′mm′ss′W\"` omwandelt in een genestelde lijst met [decimaal onderverdeelde graden](https://nl.wikipedia.org/wiki/Decimale_graad) `ddd,dddd`."
   ]
  },
  {
   "cell_type": "code",
   "execution_count": 127,
   "id": "68cf386a",
   "metadata": {},
   "outputs": [],
   "source": [
    "# input\n",
    "coordinates = [\"52°22′23″N, 4°53′36″E\", \"33°27′0″S, 70°40′0″W\", \"33°27′0″N, 70°40′0″W\"]\n",
    "\n",
    "# ... jouw code! ...\n",
    "\n",
    "# expected output:\n",
    "decimal_degrees =[[52.3731, 4.8933], [-33.45, -70.6667]]"
   ]
  },
  {
   "cell_type": "markdown",
   "id": "d0d2a0a5",
   "metadata": {
    "slideshow": {
     "slide_type": "fragment"
    }
   },
   "source": [
    "Je zal `for` loops, `if` beslissingen, de string methjods [`.strip()`](https://docs.python.org/3/library/stdtypes.html#str.strip), [`.split()`](https://docs.python.org/3/library/stdtypes.html#str.split), [`.find()`](https://docs.python.org/3/library/stdtypes.html#str.find) kunnen gebruiken, misschine ook de [`in`](https://docs.python.org/3/reference/expressions.html#in) operator en [string indexing](https://cscircles.cemc.uwaterloo.ca/7a-strings-nl/#:~:text=Het%20bewerken%20van%20een%20string%20door%20deze%20te%20zien%20als%20een%20rij%20karakters%3A%20S%5B%5D).\n",
    "In een graad zijn 60 minuten, in een minuut 60 seconden.\n",
    "Om een string \"0.45\" om te wandelen in een kommagetal kan je de ingebouwde function `float()` gebruiken. Andere oplossingen zijn ook goed, maar gebruik alleen \"built-in\" functies en methoden, geen packages (geen `import`). Probeer zo min mogelijk code te gebruiken en niet op stack-overflow te zoeken. Je kan je script naar mij mailen, ook als het nog niet helemaal werkt!"
   ]
  }
 ],
 "metadata": {
  "celltoolbar": "Slideshow",
  "kernelspec": {
   "display_name": "Python 3 (ipykernel)",
   "language": "python",
   "name": "python3"
  },
  "language_info": {
   "codemirror_mode": {
    "name": "ipython",
    "version": 3
   },
   "file_extension": ".py",
   "mimetype": "text/x-python",
   "name": "python",
   "nbconvert_exporter": "python",
   "pygments_lexer": "ipython3",
   "version": "3.10.6"
  },
  "rise": {
   "auto_select": "none",
   "theme": "white"
  },
  "toc": {
   "base_numbering": 1,
   "nav_menu": {},
   "number_sections": false,
   "sideBar": true,
   "skip_h1_title": false,
   "title_cell": "Table of Contents",
   "title_sidebar": "Contents",
   "toc_cell": false,
   "toc_position": {},
   "toc_section_display": true,
   "toc_window_display": false
  },
  "toc-autonumbering": false,
  "toc-showcode": false,
  "toc-showmarkdowntxt": false,
  "toc-showtags": false,
  "vscode": {
   "interpreter": {
    "hash": "cb84000e53ff0fecd99a61233a62e4c146a4a6dcddeaabb2d337d39cf356d9ab"
   }
  }
 },
 "nbformat": 4,
 "nbformat_minor": 5
}
